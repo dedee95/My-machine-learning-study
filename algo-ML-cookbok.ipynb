{
 "cells": [
  {
   "cell_type": "code",
   "execution_count": 1,
   "id": "d5e04422-ed18-4e1e-8bd9-1b24aecdd7b5",
   "metadata": {},
   "outputs": [],
   "source": [
    "# inti pembelajaran\n",
    "import numpy as np\n",
    "import pandas as pd\n",
    "import matplotlib.pyplot as plt\n",
    "from matplotlib.colors import ListedColormap\n",
    "import seaborn as sns\n",
    "from sympy import Matrix\n",
    "from scipy import sparse\n",
    "from sklearn.datasets import *\n",
    "from sklearn.preprocessing import *\n",
    "from sklearn.covariance import EllipticEnvelope\n",
    "from sklearn.cluster import *\n",
    "from sklearn.feature_extraction import DictVectorizer\n",
    "from sklearn.neighbors import *\n",
    "from sklearn.impute import SimpleImputer\n",
    "from sklearn.ensemble import *\n",
    "from sklearn.feature_extraction.text import CountVectorizer, TfidfVectorizer\n",
    "from sklearn.metrics import *\n",
    "from sklearn.model_selection import *\n",
    "from sklearn.pipeline import *\n",
    "from sklearn.linear_model import *\n",
    "from sklearn.dummy import DummyRegressor, DummyClassifier\n",
    "from sklearn.decomposition import PCA\n",
    "from sklearn.tree import *\n",
    "from sklearn import tree\n",
    "from sklearn.feature_selection import SelectFromModel\n",
    "from sklearn.naive_bayes import *\n",
    "from sklearn.svm import *\n",
    "from scipy.stats import *\n",
    "from IPython.display import Image\n",
    "from sklearn.calibration import CalibratedClassifierCV\n",
    "\n",
    "# library untuk visualisasi decision tree\n",
    "import pydotplus"
   ]
  },
  {
   "cell_type": "markdown",
   "id": "c3436f8a-cb4c-4e24-b794-2da04e7b9b6e",
   "metadata": {},
   "source": [
    "# Machine Learning Algorithm"
   ]
  },
  {
   "cell_type": "markdown",
   "id": "b867ed23-636a-4e9b-ab1c-f9880bbaf9a0",
   "metadata": {},
   "source": [
    "## 1. Linear Regression\n",
    "Linear regression is one of the simplest supervised learning algorithms  and useful method of making\n",
    "predictions when the target vector is a quantitative value (e.g., home price, age). "
   ]
  },
  {
   "cell_type": "markdown",
   "id": "3a85f095-06d8-4d08-92ca-34c4c9df74a0",
   "metadata": {},
   "source": [
    "### 1.1 Fitting a Line"
   ]
  },
  {
   "cell_type": "code",
   "execution_count": 30,
   "id": "ce44283b-4285-4da0-a465-53c81bd86d4d",
   "metadata": {},
   "outputs": [
    {
     "name": "stderr",
     "output_type": "stream",
     "text": [
      "C:\\Users\\hp\\anaconda3\\lib\\site-packages\\sklearn\\utils\\deprecation.py:87: FutureWarning: Function load_boston is deprecated; `load_boston` is deprecated in 1.0 and will be removed in 1.2.\n",
      "\n",
      "    The Boston housing prices dataset has an ethical problem. You can refer to\n",
      "    the documentation of this function for further details.\n",
      "\n",
      "    The scikit-learn maintainers therefore strongly discourage the use of this\n",
      "    dataset unless the purpose of the code is to study and educate about\n",
      "    ethical issues in data science and machine learning.\n",
      "\n",
      "    In this special case, you can fetch the dataset from the original\n",
      "    source::\n",
      "\n",
      "        import pandas as pd\n",
      "        import numpy as np\n",
      "\n",
      "\n",
      "        data_url = \"http://lib.stat.cmu.edu/datasets/boston\"\n",
      "        raw_df = pd.read_csv(data_url, sep=\"\\s+\", skiprows=22, header=None)\n",
      "        data = np.hstack([raw_df.values[::2, :], raw_df.values[1::2, :2]])\n",
      "        target = raw_df.values[1::2, 2]\n",
      "\n",
      "    Alternative datasets include the California housing dataset (i.e.\n",
      "    :func:`~sklearn.datasets.fetch_california_housing`) and the Ames housing\n",
      "    dataset. You can load the datasets as follows::\n",
      "\n",
      "        from sklearn.datasets import fetch_california_housing\n",
      "        housing = fetch_california_housing()\n",
      "\n",
      "    for the California housing dataset and::\n",
      "\n",
      "        from sklearn.datasets import fetch_openml\n",
      "        housing = fetch_openml(name=\"house_prices\", as_frame=True)\n",
      "\n",
      "    for the Ames housing dataset.\n",
      "    \n",
      "  warnings.warn(msg, category=FutureWarning)\n"
     ]
    }
   ],
   "source": [
    "# Load data with only two features\n",
    "boston = load_boston()\n",
    "features = boston.data[:,0:2]\n",
    "target = boston.target\n",
    "\n",
    "# Create linear regression\n",
    "regression = LinearRegression()\n",
    "\n",
    "# Fit the linear regression\n",
    "model = regression.fit(features, target)"
   ]
  },
  {
   "cell_type": "code",
   "execution_count": 31,
   "id": "474491d1-d086-4e7d-a7a0-ae18eb8d4395",
   "metadata": {},
   "outputs": [
    {
     "data": {
      "text/plain": [
       "22.485628113468223"
      ]
     },
     "execution_count": 31,
     "metadata": {},
     "output_type": "execute_result"
    }
   ],
   "source": [
    "# View the intercept\n",
    "model.intercept_"
   ]
  },
  {
   "cell_type": "code",
   "execution_count": 32,
   "id": "86b53a58-c4cd-45a5-a1ad-91d59384fbdb",
   "metadata": {},
   "outputs": [
    {
     "data": {
      "text/plain": [
       "array([-0.35207832,  0.11610909])"
      ]
     },
     "execution_count": 32,
     "metadata": {},
     "output_type": "execute_result"
    }
   ],
   "source": [
    "# View the feature coefficients\n",
    "# mengembalikan 2 buah nilai karena menggunakan 2 feature\n",
    "model.coef_"
   ]
  },
  {
   "cell_type": "code",
   "execution_count": 33,
   "id": "c9840697-3cb5-423e-a949-9cedef4c010f",
   "metadata": {},
   "outputs": [
    {
     "data": {
      "text/plain": [
       "24573.366631705547"
      ]
     },
     "execution_count": 33,
     "metadata": {},
     "output_type": "execute_result"
    }
   ],
   "source": [
    "# Predict the target value of the first observation, multiplied by 1000\n",
    "model.predict(features)[0]*1000"
   ]
  },
  {
   "cell_type": "markdown",
   "id": "9bd76d64-8e28-4227-a582-85fbd0e7b48e",
   "metadata": {},
   "source": [
    "### 1.2 Handling Interactive Effects\n",
    "You have a feature whose effect on the target variable depends on another feature."
   ]
  },
  {
   "cell_type": "code",
   "execution_count": 34,
   "id": "42b1a1d6-efad-4d96-aacd-2260eddced1d",
   "metadata": {},
   "outputs": [
    {
     "name": "stderr",
     "output_type": "stream",
     "text": [
      "C:\\Users\\hp\\anaconda3\\lib\\site-packages\\sklearn\\utils\\deprecation.py:87: FutureWarning: Function load_boston is deprecated; `load_boston` is deprecated in 1.0 and will be removed in 1.2.\n",
      "\n",
      "    The Boston housing prices dataset has an ethical problem. You can refer to\n",
      "    the documentation of this function for further details.\n",
      "\n",
      "    The scikit-learn maintainers therefore strongly discourage the use of this\n",
      "    dataset unless the purpose of the code is to study and educate about\n",
      "    ethical issues in data science and machine learning.\n",
      "\n",
      "    In this special case, you can fetch the dataset from the original\n",
      "    source::\n",
      "\n",
      "        import pandas as pd\n",
      "        import numpy as np\n",
      "\n",
      "\n",
      "        data_url = \"http://lib.stat.cmu.edu/datasets/boston\"\n",
      "        raw_df = pd.read_csv(data_url, sep=\"\\s+\", skiprows=22, header=None)\n",
      "        data = np.hstack([raw_df.values[::2, :], raw_df.values[1::2, :2]])\n",
      "        target = raw_df.values[1::2, 2]\n",
      "\n",
      "    Alternative datasets include the California housing dataset (i.e.\n",
      "    :func:`~sklearn.datasets.fetch_california_housing`) and the Ames housing\n",
      "    dataset. You can load the datasets as follows::\n",
      "\n",
      "        from sklearn.datasets import fetch_california_housing\n",
      "        housing = fetch_california_housing()\n",
      "\n",
      "    for the California housing dataset and::\n",
      "\n",
      "        from sklearn.datasets import fetch_openml\n",
      "        housing = fetch_openml(name=\"house_prices\", as_frame=True)\n",
      "\n",
      "    for the Ames housing dataset.\n",
      "    \n",
      "  warnings.warn(msg, category=FutureWarning)\n"
     ]
    }
   ],
   "source": [
    "# Load data with only two features\n",
    "boston = load_boston()\n",
    "features = boston.data[:,0:2]\n",
    "target = boston.target\n",
    "\n",
    "# Create interaction term\n",
    "interaction = PolynomialFeatures(degree=3, \n",
    "                                 include_bias=False, \n",
    "                                 interaction_only=True)\n",
    "features_interaction = interaction.fit_transform(features)\n",
    "\n",
    "# Create linear regression\n",
    "regression = LinearRegression()\n",
    "\n",
    "# Fit the linear regression\n",
    "model = regression.fit(features_interaction, target)"
   ]
  },
  {
   "cell_type": "markdown",
   "id": "eb98fbec-0c5a-49eb-9303-4a430f1fc159",
   "metadata": {},
   "source": [
    "Contoh interaksi feature ketika kita ingin membuat coffe yang enak kita memiliki 2 feature yaitu di aduk dan ditambahakan gula. Gula saja tidak akan cukup begitu pula diaduk saja tidak akan cukup, kita membutuhkan keduanya supaya coffe menjadi enak dan hal tersebut dinamakan interaction features."
   ]
  },
  {
   "cell_type": "code",
   "execution_count": 35,
   "id": "b0c3c149-a917-412b-b5df-39201955a226",
   "metadata": {},
   "outputs": [
    {
     "data": {
      "text/plain": [
       "array([6.32e-03, 1.80e+01])"
      ]
     },
     "execution_count": 35,
     "metadata": {},
     "output_type": "execute_result"
    }
   ],
   "source": [
    "# View the feature values for first observation\n",
    "features[0]"
   ]
  },
  {
   "cell_type": "markdown",
   "id": "66e7d59b-5c98-4a7f-b6ed-e3dc13323eec",
   "metadata": {},
   "source": [
    "To create an interaction term, we simply multiply those two values together for every\n",
    "observation:"
   ]
  },
  {
   "cell_type": "code",
   "execution_count": 36,
   "id": "dd285c69-43af-45ee-ac66-ab70b7e06a16",
   "metadata": {},
   "outputs": [
    {
     "data": {
      "text/plain": [
       "0.11376"
      ]
     },
     "execution_count": 36,
     "metadata": {},
     "output_type": "execute_result"
    }
   ],
   "source": [
    "# For each observation, multiply the values of the first and second feature\n",
    "interaction_term = np.multiply(features[:, 0], features[:, 1])\n",
    "\n",
    "# View interaction term for first observation\n",
    "interaction_term[0]"
   ]
  },
  {
   "cell_type": "markdown",
   "id": "c06a925d-3beb-46b1-adcc-238f6365634c",
   "metadata": {},
   "source": [
    "We can see the output of PolynomialFeatures from our solution\n",
    "by checking to see if the first observation’s feature values and interaction term value\n",
    "match our manually calculated version:"
   ]
  },
  {
   "cell_type": "code",
   "execution_count": 38,
   "id": "351f9efc-265e-44fa-b4d1-aa0570e5af60",
   "metadata": {},
   "outputs": [
    {
     "data": {
      "text/plain": [
       "array([6.3200e-03, 1.8000e+01, 1.1376e-01])"
      ]
     },
     "execution_count": 38,
     "metadata": {},
     "output_type": "execute_result"
    }
   ],
   "source": [
    "# View the values of the first observation\n",
    "features_interaction[0]"
   ]
  },
  {
   "cell_type": "markdown",
   "id": "f313e8cb-59e6-481f-9b32-8632c4d51f20",
   "metadata": {},
   "source": [
    "### 1.3 Fitting a Nonlinear Relationship"
   ]
  },
  {
   "cell_type": "code",
   "execution_count": 68,
   "id": "dd819498-b18c-4e4f-b129-1d5d9cc297a9",
   "metadata": {},
   "outputs": [
    {
     "name": "stderr",
     "output_type": "stream",
     "text": [
      "C:\\Users\\hp\\anaconda3\\lib\\site-packages\\sklearn\\utils\\deprecation.py:87: FutureWarning: Function load_boston is deprecated; `load_boston` is deprecated in 1.0 and will be removed in 1.2.\n",
      "\n",
      "    The Boston housing prices dataset has an ethical problem. You can refer to\n",
      "    the documentation of this function for further details.\n",
      "\n",
      "    The scikit-learn maintainers therefore strongly discourage the use of this\n",
      "    dataset unless the purpose of the code is to study and educate about\n",
      "    ethical issues in data science and machine learning.\n",
      "\n",
      "    In this special case, you can fetch the dataset from the original\n",
      "    source::\n",
      "\n",
      "        import pandas as pd\n",
      "        import numpy as np\n",
      "\n",
      "\n",
      "        data_url = \"http://lib.stat.cmu.edu/datasets/boston\"\n",
      "        raw_df = pd.read_csv(data_url, sep=\"\\s+\", skiprows=22, header=None)\n",
      "        data = np.hstack([raw_df.values[::2, :], raw_df.values[1::2, :2]])\n",
      "        target = raw_df.values[1::2, 2]\n",
      "\n",
      "    Alternative datasets include the California housing dataset (i.e.\n",
      "    :func:`~sklearn.datasets.fetch_california_housing`) and the Ames housing\n",
      "    dataset. You can load the datasets as follows::\n",
      "\n",
      "        from sklearn.datasets import fetch_california_housing\n",
      "        housing = fetch_california_housing()\n",
      "\n",
      "    for the California housing dataset and::\n",
      "\n",
      "        from sklearn.datasets import fetch_openml\n",
      "        housing = fetch_openml(name=\"house_prices\", as_frame=True)\n",
      "\n",
      "    for the Ames housing dataset.\n",
      "    \n",
      "  warnings.warn(msg, category=FutureWarning)\n"
     ]
    }
   ],
   "source": [
    "# Load data with one feature\n",
    "boston = load_boston()\n",
    "features = boston.data[:,:1]\n",
    "target = boston.target\n",
    "\n",
    "# Create polynomial features x^2 and x^3\n",
    "polynomial = PolynomialFeatures(degree=3, \n",
    "                                include_bias=False)\n",
    "features_polynomial = polynomial.fit_transform(features)\n",
    "\n",
    "# Create linear regression\n",
    "regression = LinearRegression()\n",
    "\n",
    "# Fit the linear regression\n",
    "model = regression.fit(features_polynomial, target)"
   ]
  },
  {
   "cell_type": "code",
   "execution_count": 69,
   "id": "ef6f3443-26ec-41f1-ae0b-be80f2e66c59",
   "metadata": {},
   "outputs": [
    {
     "data": {
      "text/plain": [
       "array([0.00632])"
      ]
     },
     "execution_count": 69,
     "metadata": {},
     "output_type": "execute_result"
    }
   ],
   "source": [
    "# View first observation\n",
    "features[0]"
   ]
  },
  {
   "cell_type": "code",
   "execution_count": 70,
   "id": "ba505622-9584-4fbc-83d2-9e9e7a9a4ad2",
   "metadata": {},
   "outputs": [
    {
     "data": {
      "text/plain": [
       "array([3.99424e-05])"
      ]
     },
     "execution_count": 70,
     "metadata": {},
     "output_type": "execute_result"
    }
   ],
   "source": [
    "# View first observation raised to the second power, x^2\n",
    "features[0]**2"
   ]
  },
  {
   "cell_type": "code",
   "execution_count": 71,
   "id": "4ebf9d62-414c-4467-8064-8f0597b12ac4",
   "metadata": {},
   "outputs": [
    {
     "data": {
      "text/plain": [
       "array([2.52435968e-07])"
      ]
     },
     "execution_count": 71,
     "metadata": {},
     "output_type": "execute_result"
    }
   ],
   "source": [
    "# View first observation raised to the third power, x^3\n",
    "features[0]**3"
   ]
  },
  {
   "cell_type": "code",
   "execution_count": 72,
   "id": "602d67a0-4273-4f2a-99aa-44347b2be966",
   "metadata": {},
   "outputs": [
    {
     "data": {
      "text/plain": [
       "array([6.32000000e-03, 3.99424000e-05, 2.52435968e-07])"
      ]
     },
     "execution_count": 72,
     "metadata": {},
     "output_type": "execute_result"
    }
   ],
   "source": [
    "# View the first observation's values for x, x^2, and x^3\n",
    "features_polynomial[0]"
   ]
  },
  {
   "cell_type": "markdown",
   "id": "df261b16-070b-4d8f-b9c4-12dde764d57b",
   "metadata": {},
   "source": [
    "### 1.4 Reducing Variance with Regularization"
   ]
  },
  {
   "cell_type": "code",
   "execution_count": 73,
   "id": "05bbe523-84a2-426f-9c95-5712922e9204",
   "metadata": {},
   "outputs": [
    {
     "name": "stderr",
     "output_type": "stream",
     "text": [
      "C:\\Users\\hp\\anaconda3\\lib\\site-packages\\sklearn\\utils\\deprecation.py:87: FutureWarning: Function load_boston is deprecated; `load_boston` is deprecated in 1.0 and will be removed in 1.2.\n",
      "\n",
      "    The Boston housing prices dataset has an ethical problem. You can refer to\n",
      "    the documentation of this function for further details.\n",
      "\n",
      "    The scikit-learn maintainers therefore strongly discourage the use of this\n",
      "    dataset unless the purpose of the code is to study and educate about\n",
      "    ethical issues in data science and machine learning.\n",
      "\n",
      "    In this special case, you can fetch the dataset from the original\n",
      "    source::\n",
      "\n",
      "        import pandas as pd\n",
      "        import numpy as np\n",
      "\n",
      "\n",
      "        data_url = \"http://lib.stat.cmu.edu/datasets/boston\"\n",
      "        raw_df = pd.read_csv(data_url, sep=\"\\s+\", skiprows=22, header=None)\n",
      "        data = np.hstack([raw_df.values[::2, :], raw_df.values[1::2, :2]])\n",
      "        target = raw_df.values[1::2, 2]\n",
      "\n",
      "    Alternative datasets include the California housing dataset (i.e.\n",
      "    :func:`~sklearn.datasets.fetch_california_housing`) and the Ames housing\n",
      "    dataset. You can load the datasets as follows::\n",
      "\n",
      "        from sklearn.datasets import fetch_california_housing\n",
      "        housing = fetch_california_housing()\n",
      "\n",
      "    for the California housing dataset and::\n",
      "\n",
      "        from sklearn.datasets import fetch_openml\n",
      "        housing = fetch_openml(name=\"house_prices\", as_frame=True)\n",
      "\n",
      "    for the Ames housing dataset.\n",
      "    \n",
      "  warnings.warn(msg, category=FutureWarning)\n"
     ]
    }
   ],
   "source": [
    "# Load data\n",
    "boston = load_boston()\n",
    "features = boston.data\n",
    "target = boston.target\n",
    "\n",
    "# Standardize features\n",
    "scaler = StandardScaler()\n",
    "features_standardized = scaler.fit_transform(features)\n",
    "\n",
    "# Create ridge regression with an alpha value\n",
    "regression = Ridge(alpha=0.5)\n",
    "\n",
    "# Fit the linear regression\n",
    "model = regression.fit(features_standardized, target)"
   ]
  },
  {
   "cell_type": "markdown",
   "id": "8a8635cd-94b6-420f-a0b1-8661b6feaac9",
   "metadata": {},
   "source": [
    "scikit-learn includes a RidgeCV method that allows us to select the ideal value for α"
   ]
  },
  {
   "cell_type": "code",
   "execution_count": 74,
   "id": "b70c10d6-e573-4eae-b20b-94591f2adf3f",
   "metadata": {},
   "outputs": [
    {
     "data": {
      "text/plain": [
       "array([-0.91987132,  1.06646104,  0.11738487,  0.68512693, -2.02901013,\n",
       "        2.68275376,  0.01315848, -3.07733968,  2.59153764, -2.0105579 ,\n",
       "       -2.05238455,  0.84884839, -3.73066646])"
      ]
     },
     "execution_count": 74,
     "metadata": {},
     "output_type": "execute_result"
    }
   ],
   "source": [
    "# Create ridge regression with three alpha values\n",
    "regr_cv = RidgeCV(alphas=[0.1, 1.0, 10.0])\n",
    "\n",
    "# Fit the linear regression\n",
    "model_cv = regr_cv.fit(features_standardized, target)\n",
    "\n",
    "# View coefficients\n",
    "model_cv.coef_"
   ]
  },
  {
   "cell_type": "code",
   "execution_count": 77,
   "id": "2442e678-c258-470a-a01e-3d7ecdea5718",
   "metadata": {},
   "outputs": [
    {
     "data": {
      "text/plain": [
       "1.0"
      ]
     },
     "execution_count": 77,
     "metadata": {},
     "output_type": "execute_result"
    }
   ],
   "source": [
    "# view the best model’s α value\n",
    "model_cv.alpha_"
   ]
  },
  {
   "cell_type": "markdown",
   "id": "1aea354a-2889-4a0d-8813-b93a94dd2ac8",
   "metadata": {},
   "source": [
    "*karena dalam regresi linier nilai koefisien sebagian ditentukan oleh skala fitur, dan dalam model regularisasi semua koefisien dijumlahkan, kita harus memastikan untuk membakukan fitur sebelum pelatihan.*"
   ]
  },
  {
   "cell_type": "markdown",
   "id": "25365691-1a16-4b68-ac2e-a4ddf09f67dc",
   "metadata": {},
   "source": [
    "### 1.5 Reducing Features with Lasso Regression"
   ]
  },
  {
   "cell_type": "code",
   "execution_count": 78,
   "id": "24c3c369-5301-4951-9028-d9343ffbe722",
   "metadata": {},
   "outputs": [
    {
     "name": "stderr",
     "output_type": "stream",
     "text": [
      "C:\\Users\\hp\\anaconda3\\lib\\site-packages\\sklearn\\utils\\deprecation.py:87: FutureWarning: Function load_boston is deprecated; `load_boston` is deprecated in 1.0 and will be removed in 1.2.\n",
      "\n",
      "    The Boston housing prices dataset has an ethical problem. You can refer to\n",
      "    the documentation of this function for further details.\n",
      "\n",
      "    The scikit-learn maintainers therefore strongly discourage the use of this\n",
      "    dataset unless the purpose of the code is to study and educate about\n",
      "    ethical issues in data science and machine learning.\n",
      "\n",
      "    In this special case, you can fetch the dataset from the original\n",
      "    source::\n",
      "\n",
      "        import pandas as pd\n",
      "        import numpy as np\n",
      "\n",
      "\n",
      "        data_url = \"http://lib.stat.cmu.edu/datasets/boston\"\n",
      "        raw_df = pd.read_csv(data_url, sep=\"\\s+\", skiprows=22, header=None)\n",
      "        data = np.hstack([raw_df.values[::2, :], raw_df.values[1::2, :2]])\n",
      "        target = raw_df.values[1::2, 2]\n",
      "\n",
      "    Alternative datasets include the California housing dataset (i.e.\n",
      "    :func:`~sklearn.datasets.fetch_california_housing`) and the Ames housing\n",
      "    dataset. You can load the datasets as follows::\n",
      "\n",
      "        from sklearn.datasets import fetch_california_housing\n",
      "        housing = fetch_california_housing()\n",
      "\n",
      "    for the California housing dataset and::\n",
      "\n",
      "        from sklearn.datasets import fetch_openml\n",
      "        housing = fetch_openml(name=\"house_prices\", as_frame=True)\n",
      "\n",
      "    for the Ames housing dataset.\n",
      "    \n",
      "  warnings.warn(msg, category=FutureWarning)\n"
     ]
    }
   ],
   "source": [
    "# Load data\n",
    "boston = load_boston()\n",
    "features = boston.data\n",
    "target = boston.target\n",
    "\n",
    "# Standardize features\n",
    "scaler = StandardScaler()\n",
    "features_standardized = scaler.fit_transform(features)\n",
    "\n",
    "# Create lasso regression with alpha value\n",
    "regression = Lasso(alpha=0.5)\n",
    "\n",
    "# Fit the linear regression\n",
    "model = regression.fit(features_standardized, target)"
   ]
  },
  {
   "cell_type": "markdown",
   "id": "afe9e991-1ad5-47b9-834a-25a320227d59",
   "metadata": {},
   "source": [
    "*Salah satu karakteristik menarik dari penalti regresi laso adalah dapat mengecilkan koefisien model menjadi nol, secara efektif mengurangi jumlah fitur dalam model. Misalnya, dalam solusi kami, kami menetapkan alfa ke 0,5 dan kami dapat melihat bahwa banyak dari koefisiennya adalah 0, artinya fitur yang sesuai tidak digunakan dalam model*"
   ]
  },
  {
   "cell_type": "code",
   "execution_count": 79,
   "id": "ba0b8593-3f8f-4c94-afa8-25d3b83812ed",
   "metadata": {},
   "outputs": [
    {
     "data": {
      "text/plain": [
       "array([-0.11526463,  0.        , -0.        ,  0.39707879, -0.        ,\n",
       "        2.97425861, -0.        , -0.17056942, -0.        , -0.        ,\n",
       "       -1.59844856,  0.54313871, -3.66614361])"
      ]
     },
     "execution_count": 79,
     "metadata": {},
     "output_type": "execute_result"
    }
   ],
   "source": [
    "# View coefficients\n",
    "model.coef_"
   ]
  },
  {
   "cell_type": "markdown",
   "id": "2d84c1cf-7977-40dc-b158-6d777cbcef28",
   "metadata": {},
   "source": [
    "## 2. Trees and Forests\n",
    "The basis of\n",
    "tree-based learners is the decision tree wherein a series of decision rules (e.g., “If their\n",
    "gender is male…”) are chained. "
   ]
  },
  {
   "cell_type": "markdown",
   "id": "0d5ed9d0-06c3-4263-a369-760f9c9f87d5",
   "metadata": {},
   "source": [
    "### 2.1 Training a Decision Tree Classifier"
   ]
  },
  {
   "cell_type": "code",
   "execution_count": 4,
   "id": "d00e1f93-7ef0-4f88-9116-fc325eb0b389",
   "metadata": {},
   "outputs": [],
   "source": [
    "# Load data\n",
    "iris = load_iris()\n",
    "features = iris.data\n",
    "target = iris.target\n",
    "\n",
    "# Create decision tree classifier object\n",
    "decisiontree = DecisionTreeClassifier(random_state=0)\n",
    "\n",
    "# Train model\n",
    "model = decisiontree.fit(features, target)"
   ]
  },
  {
   "cell_type": "code",
   "execution_count": 13,
   "id": "69096d8c-ff6c-44cc-891a-5e9cd729fa9d",
   "metadata": {},
   "outputs": [
    {
     "data": {
      "text/plain": [
       "array(['versicolor'], dtype='<U10')"
      ]
     },
     "execution_count": 13,
     "metadata": {},
     "output_type": "execute_result"
    }
   ],
   "source": [
    "# Make new observation\n",
    "observation = [[ 5, 4, 3, 2]]\n",
    "\n",
    "# Predict observation's class\n",
    "iris.target_names[model.predict(observation)]"
   ]
  },
  {
   "cell_type": "code",
   "execution_count": 6,
   "id": "85a95efb-b009-4d05-b8b6-61438c3c8042",
   "metadata": {},
   "outputs": [
    {
     "data": {
      "text/plain": [
       "array([[0., 1., 0.]])"
      ]
     },
     "execution_count": 6,
     "metadata": {},
     "output_type": "execute_result"
    }
   ],
   "source": [
    "# View predicted class probabilities for the three classes\n",
    "model.predict_proba(observation)"
   ]
  },
  {
   "cell_type": "markdown",
   "id": "6eadcd00-66cb-4a46-837f-327a7628f540",
   "metadata": {},
   "source": [
    "Finally, if we want to use a different impurity measurement we can use the criterion\n",
    "parameter:"
   ]
  },
  {
   "cell_type": "code",
   "execution_count": 7,
   "id": "8c8813be-ac20-4a1a-9468-947bda10f1be",
   "metadata": {},
   "outputs": [],
   "source": [
    "# Create decision tree classifier object using entropy\n",
    "decisiontree_entropy = DecisionTreeClassifier(criterion='entropy', \n",
    "                                              random_state=0)\n",
    "\n",
    "# Train model\n",
    "model_entropy = decisiontree_entropy.fit(features, target)"
   ]
  },
  {
   "cell_type": "markdown",
   "id": "f01ca0cc-5fef-4646-9540-ce365c78e75e",
   "metadata": {},
   "source": [
    "### 2.2 Training a Decision Tree Regressor\n",
    "Decision tree regression works similarly to decision tree classification; however,\n",
    "instead of reducing Gini impurity or entropy, potential splits are by default measured\n",
    "on how much they reduce mean squared error (MSE)"
   ]
  },
  {
   "cell_type": "code",
   "execution_count": 14,
   "id": "28db1563-a0bf-4635-a7d9-8ba9fd80b313",
   "metadata": {},
   "outputs": [
    {
     "name": "stderr",
     "output_type": "stream",
     "text": [
      "C:\\Users\\hp\\anaconda3\\lib\\site-packages\\sklearn\\utils\\deprecation.py:87: FutureWarning: Function load_boston is deprecated; `load_boston` is deprecated in 1.0 and will be removed in 1.2.\n",
      "\n",
      "    The Boston housing prices dataset has an ethical problem. You can refer to\n",
      "    the documentation of this function for further details.\n",
      "\n",
      "    The scikit-learn maintainers therefore strongly discourage the use of this\n",
      "    dataset unless the purpose of the code is to study and educate about\n",
      "    ethical issues in data science and machine learning.\n",
      "\n",
      "    In this special case, you can fetch the dataset from the original\n",
      "    source::\n",
      "\n",
      "        import pandas as pd\n",
      "        import numpy as np\n",
      "\n",
      "\n",
      "        data_url = \"http://lib.stat.cmu.edu/datasets/boston\"\n",
      "        raw_df = pd.read_csv(data_url, sep=\"\\s+\", skiprows=22, header=None)\n",
      "        data = np.hstack([raw_df.values[::2, :], raw_df.values[1::2, :2]])\n",
      "        target = raw_df.values[1::2, 2]\n",
      "\n",
      "    Alternative datasets include the California housing dataset (i.e.\n",
      "    :func:`~sklearn.datasets.fetch_california_housing`) and the Ames housing\n",
      "    dataset. You can load the datasets as follows::\n",
      "\n",
      "        from sklearn.datasets import fetch_california_housing\n",
      "        housing = fetch_california_housing()\n",
      "\n",
      "    for the California housing dataset and::\n",
      "\n",
      "        from sklearn.datasets import fetch_openml\n",
      "        housing = fetch_openml(name=\"house_prices\", as_frame=True)\n",
      "\n",
      "    for the Ames housing dataset.\n",
      "    \n",
      "  warnings.warn(msg, category=FutureWarning)\n"
     ]
    }
   ],
   "source": [
    "# Load data with only two features\n",
    "boston = load_boston()\n",
    "features = boston.data[:,0:2]\n",
    "target = boston.target\n",
    "\n",
    "# Create decision tree classifier object\n",
    "decisiontree = DecisionTreeRegressor(random_state=0)\n",
    "\n",
    "# Train model\n",
    "model = decisiontree.fit(features, target)"
   ]
  },
  {
   "cell_type": "code",
   "execution_count": 15,
   "id": "793b1c2a-98a8-456f-abad-79fc2dbca294",
   "metadata": {},
   "outputs": [
    {
     "data": {
      "text/plain": [
       "array([33.])"
      ]
     },
     "execution_count": 15,
     "metadata": {},
     "output_type": "execute_result"
    }
   ],
   "source": [
    "# Make new observation\n",
    "observation = [[0.02, 16]]\n",
    "\n",
    "# Predict observation's value\n",
    "model.predict(observation)"
   ]
  },
  {
   "cell_type": "code",
   "execution_count": 17,
   "id": "8ee0118c-5fbb-46f2-9b03-ec2c8e9c5e10",
   "metadata": {},
   "outputs": [],
   "source": [
    "# Create decision tree classifier object using entropy\n",
    "decisiontree_mae = DecisionTreeRegressor(criterion=\"absolute_error\", random_state=0)\n",
    "\n",
    "# Train model\n",
    "model_mae = decisiontree_mae.fit(features, target)"
   ]
  },
  {
   "cell_type": "markdown",
   "id": "ab633f11-18bf-43a4-9c35-291c823b3c44",
   "metadata": {},
   "source": [
    "### 2.3 Visualizing a Decision Tree Model"
   ]
  },
  {
   "cell_type": "code",
   "execution_count": 4,
   "id": "ecd1fb79-2ab9-424d-88e9-3400619c5f04",
   "metadata": {},
   "outputs": [],
   "source": [
    "# Load data\n",
    "iris = load_iris()\n",
    "features = iris.data\n",
    "target = iris.target\n",
    "\n",
    "# Create decision tree classifier object\n",
    "decisiontree = DecisionTreeClassifier(random_state=0)\n",
    "\n",
    "# Train model\n",
    "model = decisiontree.fit(features, target)"
   ]
  },
  {
   "cell_type": "code",
   "execution_count": 5,
   "id": "006f854a-80ed-4edd-896a-ec2c85a3a8e5",
   "metadata": {},
   "outputs": [
    {
     "data": {
      "image/png": "[encoded data removed]",
      "text/plain": [
       "<IPython.core.display.Image object>"
      ]
     },
     "execution_count": 5,
     "metadata": {},
     "output_type": "execute_result"
    }
   ],
   "source": [
    "# visualisasing a decision tree\n",
    "# Create DOT data\n",
    "dot_data = tree.export_graphviz(decisiontree,\n",
    "                                out_file=None,\n",
    "                                feature_names=iris.feature_names,\n",
    "                                class_names=iris.target_names)\n",
    "\n",
    "# Draw graph\n",
    "graph = pydotplus.graph_from_dot_data(dot_data)\n",
    "\n",
    "# Show graph\n",
    "Image(graph.create_png())"
   ]
  },
  {
   "cell_type": "markdown",
   "id": "463e658e-bcd3-494b-9db1-4a710a98da67",
   "metadata": {},
   "source": [
    "If we want to use the decision tree in other applications or reports, we can easily\n",
    "export the visualization into PDF or a PNG image:"
   ]
  },
  {
   "cell_type": "code",
   "execution_count": 6,
   "id": "5ea4837c-565e-49e6-a94c-e345167fac18",
   "metadata": {},
   "outputs": [
    {
     "data": {
      "text/plain": [
       "True"
      ]
     },
     "execution_count": 6,
     "metadata": {},
     "output_type": "execute_result"
    }
   ],
   "source": [
    "# Create PDF\n",
    "graph.write_pdf(\"iris.pdf\")"
   ]
  },
  {
   "cell_type": "code",
   "execution_count": 7,
   "id": "41690bbd-9fb8-4b30-a630-1b8a50aadd35",
   "metadata": {},
   "outputs": [
    {
     "data": {
      "text/plain": [
       "True"
      ]
     },
     "execution_count": 7,
     "metadata": {},
     "output_type": "execute_result"
    }
   ],
   "source": [
    "# Create PNG\n",
    "graph.write_png(\"iris.png\")"
   ]
  },
  {
   "cell_type": "markdown",
   "id": "ff151f83-e4b4-4775-a119-ff4d6c82ab7d",
   "metadata": {},
   "source": [
    "### 2.4 Training a Random Forest Classifier"
   ]
  },
  {
   "cell_type": "code",
   "execution_count": 8,
   "id": "b88cb3bf-4b9e-4e93-b707-716fa42320a2",
   "metadata": {},
   "outputs": [],
   "source": [
    "# Load data\n",
    "iris = load_iris()\n",
    "features = iris.data\n",
    "target = iris.target\n",
    "\n",
    "# Create random forest classifier object\n",
    "randomforest = RandomForestClassifier(random_state=0, n_jobs=-1)\n",
    "\n",
    "# Train model\n",
    "model = randomforest.fit(features, target)"
   ]
  },
  {
   "cell_type": "code",
   "execution_count": 9,
   "id": "4891096d-bcb4-40fc-a762-0517e9e7855c",
   "metadata": {},
   "outputs": [
    {
     "data": {
      "text/plain": [
       "array(['versicolor'], dtype='<U10')"
      ]
     },
     "execution_count": 9,
     "metadata": {},
     "output_type": "execute_result"
    }
   ],
   "source": [
    "# Make new observation\n",
    "observation = [[ 5, 4, 3, 2]]\n",
    "\n",
    "# Predict observation's class\n",
    "iris.target_names[model.predict(observation)]"
   ]
  },
  {
   "cell_type": "markdown",
   "id": "24e14db1-b11b-48ee-8053-184468947c96",
   "metadata": {},
   "source": [
    "`RandomForestClassifier` also uses many of the same parameters as `DecisionTreeClassifier`. For example, we can change the measure of split quality used:"
   ]
  },
  {
   "cell_type": "code",
   "execution_count": 10,
   "id": "cb2e4bce-dc0a-46fe-8125-e4b5f49ebd0a",
   "metadata": {},
   "outputs": [],
   "source": [
    "# Create random forest classifier object using entropy\n",
    "randomforest_entropy = RandomForestClassifier(criterion=\"entropy\", \n",
    "                                              random_state=0)\n",
    "\n",
    "# Train model\n",
    "model_entropy = randomforest_entropy.fit(features, target)"
   ]
  },
  {
   "cell_type": "markdown",
   "id": "896b473a-895c-4084-be87-bf42e9686c84",
   "metadata": {},
   "source": [
    "### 2.5 Training a Random Forest Regressor"
   ]
  },
  {
   "cell_type": "code",
   "execution_count": 13,
   "id": "208347c3-087e-466a-a1e7-483a1d816534",
   "metadata": {},
   "outputs": [],
   "source": [
    "# Load data with only two features\n",
    "boston = load_boston()\n",
    "features = boston.data[:,0:2]\n",
    "target = boston.target\n",
    "\n",
    "# Create random forest classifier object\n",
    "randomforest = RandomForestRegressor(random_state=0, n_jobs=-1)\n",
    "\n",
    "# Train model\n",
    "model = randomforest.fit(features, target)"
   ]
  },
  {
   "cell_type": "code",
   "execution_count": 14,
   "id": "b5bdb959-cee3-4aef-bce0-d64148039352",
   "metadata": {},
   "outputs": [
    {
     "data": {
      "text/plain": [
       "array([30.316])"
      ]
     },
     "execution_count": 14,
     "metadata": {},
     "output_type": "execute_result"
    }
   ],
   "source": [
    "# Make new observation\n",
    "observation = [[0.02, 16]]\n",
    "\n",
    "# Predict observation's value\n",
    "model.predict(observation)"
   ]
  },
  {
   "cell_type": "markdown",
   "id": "c3f7e5f7-d2fb-44fa-bb9b-19554f1014e0",
   "metadata": {},
   "source": [
    "### 2.6 Identifying Important Features in Random Forests"
   ]
  },
  {
   "cell_type": "code",
   "execution_count": 2,
   "id": "70765076-6112-41ed-a740-f0b4cc20c454",
   "metadata": {},
   "outputs": [],
   "source": [
    "# Load data\n",
    "iris = load_iris()\n",
    "features = iris.data\n",
    "target = iris.target\n",
    "\n",
    "# Create random forest classifier object\n",
    "randomforest = RandomForestClassifier(random_state=0, n_jobs=-1)\n",
    "\n",
    "# Train model\n",
    "model = randomforest.fit(features, target)\n",
    "\n",
    "# Calculate feature importances\n",
    "importances = model.feature_importances_\n",
    "\n",
    "# Sort feature importances in ascending order\n",
    "indices = np.argsort(importances)\n",
    "\n",
    "# Rearrange feature names so they match the sorted feature importances\n",
    "names = [iris.feature_names[i] for i in indices]"
   ]
  },
  {
   "cell_type": "code",
   "execution_count": 3,
   "id": "1032c1c0-0b08-4344-821a-ca7450c8baca",
   "metadata": {},
   "outputs": [
    {
     "data": {
      "image/png": "[encoded data removed]",
      "text/plain": [
       "<Figure size 432x288 with 1 Axes>"
      ]
     },
     "metadata": {
      "needs_background": "light"
     },
     "output_type": "display_data"
    }
   ],
   "source": [
    "# plotting importances features\n",
    "plt.figure()\n",
    "plt.title(\"Feature Importance\")\n",
    "plt.bar(range(features.shape[1]), importances[indices])\n",
    "\n",
    "# Add feature names as x-axis labels\n",
    "plt.xticks(range(features.shape[1]), names, rotation=90)\n",
    "plt.show()"
   ]
  },
  {
   "cell_type": "markdown",
   "id": "9e14de8b-afbc-4f01-b071-88fbbf38e82b",
   "metadata": {},
   "source": [
    "In scikit-learn, classification and regression decision trees and random forests can\n",
    "report the relative importance of each feature"
   ]
  },
  {
   "cell_type": "code",
   "execution_count": 4,
   "id": "97bb4a54-d803-48d8-a62d-2a42eba5a843",
   "metadata": {},
   "outputs": [
    {
     "data": {
      "text/plain": [
       "array([0.09090795, 0.02453104, 0.46044474, 0.42411627])"
      ]
     },
     "execution_count": 4,
     "metadata": {},
     "output_type": "execute_result"
    }
   ],
   "source": [
    "# View feature importances\n",
    "model.feature_importances_"
   ]
  },
  {
   "cell_type": "code",
   "execution_count": 22,
   "id": "4cdcfd34-4ea0-484d-a860-911ad26df7ed",
   "metadata": {},
   "outputs": [
    {
     "data": {
      "text/plain": [
       "array(['setosa'], dtype='<U10')"
      ]
     },
     "execution_count": 22,
     "metadata": {},
     "output_type": "execute_result"
    }
   ],
   "source": [
    "observation = [0.09090795, 0.02453104, 0.46044474, 0.42411627]\n",
    "\n",
    "iris.target_names[model.predict([observation])]"
   ]
  },
  {
   "cell_type": "markdown",
   "id": "9c90d70e-2a1d-4c90-9d90-f92237f72417",
   "metadata": {},
   "source": [
    "### 2.7 Selecting Important Features in Random Forests\n",
    "Identify the importance features and retrain the model using only the most important\n",
    "features"
   ]
  },
  {
   "cell_type": "code",
   "execution_count": 25,
   "id": "9245eae2-1fda-43d3-8b5f-d5eac6473198",
   "metadata": {},
   "outputs": [],
   "source": [
    "# Load data\n",
    "iris = load_iris()\n",
    "features = iris.data\n",
    "target = iris.target\n",
    "\n",
    "# Create random forest classifier\n",
    "randomforest = RandomForestClassifier(random_state=0, n_jobs=-1)\n",
    "\n",
    "# Create object that selects features with importance greater\n",
    "# than or equal to a threshold\n",
    "selector = SelectFromModel(randomforest, threshold=0.3)\n",
    "\n",
    "# Feature new feature matrix using selector\n",
    "features_important = selector.fit_transform(features, target)\n",
    "\n",
    "# Train random forest using most important featres\n",
    "model = randomforest.fit(features_important, target)"
   ]
  },
  {
   "cell_type": "markdown",
   "id": "4599d106-eb68-4f36-aacb-4634c3959505",
   "metadata": {},
   "source": [
    "*There are situations where we might want to reduce the number of features in our\n",
    "model. For example, we might want to reduce the model’s variance or we might want\n",
    "to improve interpretability by including only the most important features*"
   ]
  },
  {
   "cell_type": "code",
   "execution_count": 32,
   "id": "0c745057-2e15-454f-810a-181c7ae22132",
   "metadata": {},
   "outputs": [
    {
     "data": {
      "text/plain": [
       "array([0.51108238, 0.48891762])"
      ]
     },
     "execution_count": 32,
     "metadata": {},
     "output_type": "execute_result"
    }
   ],
   "source": [
    "model.feature_importances_"
   ]
  },
  {
   "cell_type": "code",
   "execution_count": 33,
   "id": "8aeda5ae-2bd8-4ef5-a02d-945f715646ec",
   "metadata": {},
   "outputs": [
    {
     "data": {
      "text/plain": [
       "array(['virginica'], dtype='<U10')"
      ]
     },
     "execution_count": 33,
     "metadata": {},
     "output_type": "execute_result"
    }
   ],
   "source": [
    "# Make new observation\n",
    "observation = [[ 5, 4]]\n",
    "\n",
    "# Predict observation's class\n",
    "iris.target_names[model.predict(observation)]"
   ]
  },
  {
   "cell_type": "markdown",
   "id": "c77ddfd4-3b3f-47fe-960a-c5e7e59b5be0",
   "metadata": {},
   "source": [
    "### 2.8 Handling Imbalanced Classes"
   ]
  },
  {
   "cell_type": "code",
   "execution_count": 5,
   "id": "1ede7e75-50f5-4274-a70e-26d28be00eba",
   "metadata": {},
   "outputs": [],
   "source": [
    "# Load data\n",
    "iris = load_iris()\n",
    "features = iris.data\n",
    "target = iris.target\n",
    "\n",
    "# Make class highly imbalanced by removing first 40 observations\n",
    "features = features[40:,:]\n",
    "target = target[40:]\n",
    "\n",
    "# Create target vector indicating if class 0, otherwise 1\n",
    "target = np.where((target == 0), 0, 1)\n",
    "\n",
    "# Create random forest classifier object\n",
    "randomforest = RandomForestClassifier(random_state=0, \n",
    "                                      n_jobs=-1, \n",
    "                                      class_weight=\"balanced\")\n",
    "\n",
    "# Train model\n",
    "model = randomforest.fit(features, target)"
   ]
  },
  {
   "cell_type": "markdown",
   "id": "f3f61f61-fc21-45cb-9bdb-0eec1d324862",
   "metadata": {},
   "source": [
    "### 2.9 Controlling Tree Size"
   ]
  },
  {
   "cell_type": "code",
   "execution_count": 7,
   "id": "ef39f47c-59b2-4096-8bd1-3703f3b79c1e",
   "metadata": {},
   "outputs": [],
   "source": [
    "# Load data\n",
    "iris = load_iris()\n",
    "features = iris.data\n",
    "target = iris.target\n",
    "\n",
    "# Create decision tree classifier object\n",
    "decisiontree = DecisionTreeClassifier(random_state=0,\n",
    "                                      max_depth=None,\n",
    "                                      min_samples_split=2,\n",
    "                                      min_samples_leaf=1,\n",
    "                                      min_weight_fraction_leaf=0,\n",
    "                                      max_leaf_nodes=None,\n",
    "                                      min_impurity_decrease=0)\n",
    "\n",
    "# Train model\n",
    "model = decisiontree.fit(features, target)"
   ]
  },
  {
   "cell_type": "markdown",
   "id": "282b02ec-7b92-4b41-9b74-d9faadbe06c9",
   "metadata": {},
   "source": [
    "### 2.10 Improving Performance Through Boosting"
   ]
  },
  {
   "cell_type": "code",
   "execution_count": 10,
   "id": "0ce45837-fc5c-435e-9d7b-299a1d08caa6",
   "metadata": {},
   "outputs": [],
   "source": [
    "# Load data\n",
    "iris = load_iris()\n",
    "features = iris['data']\n",
    "target = iris['target']\n",
    "\n",
    "# Create adaboost tree classifier object\n",
    "adaboost = AdaBoostClassifier(random_state=0)\n",
    "\n",
    "# Train model\n",
    "model = adaboost.fit(features, target)"
   ]
  },
  {
   "cell_type": "markdown",
   "id": "98838240-c56f-40af-ba62-f269681def51",
   "metadata": {},
   "source": [
    "### 2.11 Evaluating Random Forests with Out-of-Bag Errors"
   ]
  },
  {
   "cell_type": "code",
   "execution_count": 11,
   "id": "6a87f0e4-a833-474c-9b02-f8c31f1ed04f",
   "metadata": {},
   "outputs": [
    {
     "data": {
      "text/plain": [
       "0.9533333333333334"
      ]
     },
     "execution_count": 11,
     "metadata": {},
     "output_type": "execute_result"
    }
   ],
   "source": [
    "# load data\n",
    "iris = load_iris()\n",
    "features = iris.data\n",
    "target = iris.target\n",
    "\n",
    "# Create random tree classifier object\n",
    "randomforest = RandomForestClassifier(random_state=0, \n",
    "                                      n_estimators=1000, \n",
    "                                      oob_score=True, \n",
    "                                      n_jobs=-1)\n",
    "# Train model\n",
    "model = randomforest.fit(features, target)\n",
    "\n",
    "# View out-of-bag-error\n",
    "randomforest.oob_score_"
   ]
  },
  {
   "cell_type": "markdown",
   "id": "f5b283c7-d814-4b14-902d-4a0e99cb4007",
   "metadata": {},
   "source": [
    "## 3. K-Nearest Neighbors\n",
    "KNN sering dianggap sebagai pembelajar yang malas; itu tidak secara teknis melatih model untuk membuat prediksi. Sebaliknya sebuah observasi diprediksi menjadi kelas dari proporsi terbesar dari k observasi terdekat. Misalnya, jika sebuah observasi dengan kelas yang tidak diketahui dikelilingi oleh observasi kelas 1, maka observasi tersebut diklasifikasikan sebagai kelas 1."
   ]
  },
  {
   "cell_type": "markdown",
   "id": "718071f8-6a16-4733-a692-4329bd77893b",
   "metadata": {},
   "source": [
    "### 3.1 Finding an Observation’s Nearest Neighbors"
   ]
  },
  {
   "cell_type": "code",
   "execution_count": 15,
   "id": "ae88bb75-ac13-403e-be88-6ef8a661e448",
   "metadata": {},
   "outputs": [
    {
     "data": {
      "text/plain": [
       "array([[[1.03800476, 0.55861082, 1.10378283, 1.18556721],\n",
       "        [0.79566902, 0.32841405, 0.76275827, 1.05393502]]])"
      ]
     },
     "execution_count": 15,
     "metadata": {},
     "output_type": "execute_result"
    }
   ],
   "source": [
    "# Load data\n",
    "iris = load_iris()\n",
    "features = iris.data\n",
    "\n",
    "# Create standardizer\n",
    "standardizer = StandardScaler()\n",
    "\n",
    "# Standardize features\n",
    "features_standardized = standardizer.fit_transform(features)\n",
    "\n",
    "# Two nearest neighbors\n",
    "nearest_neighbors = NearestNeighbors(n_neighbors=2).fit(features_standardized)\n",
    "\n",
    "# Create an observation\n",
    "new_observation = [ 1, 1, 1, 1]\n",
    "\n",
    "# Find distances and indices of the observation's nearest neighbors\n",
    "distances, indices = nearest_neighbors.kneighbors([new_observation])\n",
    "\n",
    "# View the nearest neighbors\n",
    "features_standardized[indices]"
   ]
  },
  {
   "cell_type": "markdown",
   "id": "e15cc69b-98bc-4188-8c9f-fdb4e535cc7f",
   "metadata": {},
   "source": [
    "indeks berisi lokasi pengamatan dalam kumpulan data kami yang paling dekat, jadi X[indeks] menampilkan nilai pengamatan tersebut.\n",
    "<img src='distance.png'>\n",
    "where xi\n",
    " and yi\n",
    " are the two observations we are calculating the distance between.\n",
    "Minkowski includes a hyperparameter, p, where p = 1 is Manhattan distance and p =\n",
    "2 is Euclidean distance, and so on. By default in scikit-learn p = 2."
   ]
  },
  {
   "cell_type": "code",
   "execution_count": 16,
   "id": "85338a08-d421-4a66-853c-ce4c37bdfa10",
   "metadata": {},
   "outputs": [
    {
     "data": {
      "text/plain": [
       "NearestNeighbors(metric='euclidean', n_neighbors=2)"
      ]
     },
     "execution_count": 16,
     "metadata": {},
     "output_type": "execute_result"
    }
   ],
   "source": [
    "# Find two nearest neighbors based on euclidean distance\n",
    "nearestneighbors_euclidean = NearestNeighbors(n_neighbors=2, \n",
    "                                              metric='euclidean')\n",
    "nearestneighbors_euclidean.fit(features_standardized)"
   ]
  },
  {
   "cell_type": "markdown",
   "id": "22c01a19-a498-437f-a635-27fc1555bd4d",
   "metadata": {},
   "source": [
    "The distance variable we created contains the actual distance measurement to each\n",
    "of the two nearest neighbors:"
   ]
  },
  {
   "cell_type": "code",
   "execution_count": 17,
   "id": "024599ca-5fe3-49ac-82e0-a9044696059c",
   "metadata": {},
   "outputs": [
    {
     "data": {
      "text/plain": [
       "array([[0.49140089, 0.74294782]])"
      ]
     },
     "execution_count": 17,
     "metadata": {},
     "output_type": "execute_result"
    }
   ],
   "source": [
    "# View distances\n",
    "distances"
   ]
  },
  {
   "cell_type": "markdown",
   "id": "7cb925e2-15d9-49c4-815b-bf6b4e2ded83",
   "metadata": {},
   "source": [
    "In addition, we can use kneighbors_graph to create a matrix indicating each observation’s nearest neighbors:"
   ]
  },
  {
   "cell_type": "code",
   "execution_count": 18,
   "id": "6579bda7-7595-4292-9504-de521ef2b3a5",
   "metadata": {},
   "outputs": [
    {
     "data": {
      "text/plain": [
       "array([0., 0., 0., 0., 0., 0., 0., 0., 0., 0., 0., 0., 0., 0., 0., 0., 0.,\n",
       "       1., 0., 0., 0., 0., 0., 0., 0., 0., 0., 0., 0., 0., 0., 0., 0., 0.,\n",
       "       0., 0., 0., 0., 0., 0., 0., 0., 0., 0., 0., 0., 0., 0., 0., 0., 0.,\n",
       "       0., 0., 0., 0., 0., 0., 0., 0., 0., 0., 0., 0., 0., 0., 0., 0., 0.,\n",
       "       0., 0., 0., 0., 0., 0., 0., 0., 0., 0., 0., 0., 0., 0., 0., 0., 0.,\n",
       "       0., 0., 0., 0., 0., 0., 0., 0., 0., 0., 0., 0., 0., 0., 0., 0., 0.,\n",
       "       0., 0., 0., 0., 0., 0., 0., 0., 0., 0., 0., 0., 0., 0., 0., 0., 0.,\n",
       "       0., 0., 0., 0., 0., 0., 0., 0., 0., 0., 0., 0., 0., 0., 0., 0., 0.,\n",
       "       0., 0., 0., 0., 0., 0., 0., 0., 0., 0., 0., 0., 0., 0.])"
      ]
     },
     "execution_count": 18,
     "metadata": {},
     "output_type": "execute_result"
    }
   ],
   "source": [
    "# Find each observation's three nearest neighbors\n",
    "nearestneighbors_euclidean = NearestNeighbors(n_neighbors=2, \n",
    "                                              metric='euclidean')\n",
    "nearestneighbors_euclidean.fit(features_standardized)\n",
    "\n",
    "# List of lists indicating each observation's 3 nearest neighbors\n",
    "# (including itself)\n",
    "nearest_neighbors_with_self = nearestneighbors_euclidean.kneighbors_graph(\n",
    "    features_standardized).toarray()\n",
    "\n",
    "# Remove 1's marking an observation is a nearest neighbor to itself\n",
    "for i, x in enumerate(nearest_neighbors_with_self):\n",
    "    x[i] = 0\n",
    "# View first observation's two nearest neighbors\n",
    "nearest_neighbors_with_self[0]"
   ]
  },
  {
   "cell_type": "markdown",
   "id": "e0a98cba-1902-44a4-8e56-aa4b5d115dc8",
   "metadata": {},
   "source": [
    "### 3.2 Creating a K-Nearest Neighbor Classifier"
   ]
  },
  {
   "cell_type": "code",
   "execution_count": 20,
   "id": "8817588d-85ee-43a5-aec8-cab88d6ed11e",
   "metadata": {},
   "outputs": [],
   "source": [
    "# Load data\n",
    "iris = load_iris()\n",
    "X = iris.data\n",
    "y = iris.target\n",
    "\n",
    "# Create standardizer & tandardize features\n",
    "standardizer = StandardScaler()\n",
    "X_std = standardizer.fit_transform(X)\n",
    "\n",
    "# Train a KNN classifier with 5 neighbors\n",
    "knn = KNeighborsClassifier(n_neighbors=5, n_jobs=-1).fit(X_std, y)"
   ]
  },
  {
   "cell_type": "code",
   "execution_count": 22,
   "id": "24c7d72f-de33-40c4-b415-c4ac3eb25e9d",
   "metadata": {},
   "outputs": [
    {
     "data": {
      "text/plain": [
       "array(['versicolor', 'virginica'], dtype='<U10')"
      ]
     },
     "execution_count": 22,
     "metadata": {},
     "output_type": "execute_result"
    }
   ],
   "source": [
    "# Create two observations\n",
    "new_observations = [[ 0.75, 0.75, 0.75, 0.75],\n",
    "                    [ 1, 1, 1, 1]]\n",
    "\n",
    "# Predict the class of two observations\n",
    "iris.target_names[knn.predict(new_observations)]"
   ]
  },
  {
   "cell_type": "code",
   "execution_count": 23,
   "id": "e72ad994-28cc-452d-b97a-3157cd6ec452",
   "metadata": {},
   "outputs": [
    {
     "data": {
      "text/plain": [
       "array([[0. , 0.6, 0.4],\n",
       "       [0. , 0. , 1. ]])"
      ]
     },
     "execution_count": 23,
     "metadata": {},
     "output_type": "execute_result"
    }
   ],
   "source": [
    "# View probability each observation is one of three classes\n",
    "knn.predict_proba(new_observations)"
   ]
  },
  {
   "cell_type": "markdown",
   "id": "6cc16ddb-37ee-4657-bdff-f437ea0f91ee",
   "metadata": {},
   "source": [
    "*The class with the highest probability becomes the predicted class.*"
   ]
  },
  {
   "cell_type": "markdown",
   "id": "be30fbdc-d75f-4290-88ee-d863660173fb",
   "metadata": {},
   "source": [
    "### 3.3 Identifying the Best Neighborhood Size"
   ]
  },
  {
   "cell_type": "code",
   "execution_count": 24,
   "id": "f097e87a-e02d-4d41-855e-3b1da6d1da90",
   "metadata": {},
   "outputs": [
    {
     "data": {
      "text/plain": [
       "GridSearchCV(cv=5,\n",
       "             estimator=Pipeline(steps=[('standardizer', StandardScaler()),\n",
       "                                       ('knn',\n",
       "                                        KNeighborsClassifier(n_jobs=-1))]),\n",
       "             param_grid=[{'knn__n_neighbors': [1, 2, 3, 4, 5, 6, 7, 8, 9, 10]}])"
      ]
     },
     "execution_count": 24,
     "metadata": {},
     "output_type": "execute_result"
    }
   ],
   "source": [
    "# Load data\n",
    "iris = load_iris()\n",
    "X = iris.data\n",
    "y = iris.target\n",
    "\n",
    "# Create standardizer & tandardize features\n",
    "standardizer = StandardScaler()\n",
    "X_std = standardizer.fit_transform(X)\n",
    "\n",
    "# Create a KNN classifier\n",
    "knn = KNeighborsClassifier(n_neighbors=5, n_jobs=-1)\n",
    "\n",
    "# Create a pipeline\n",
    "pipe = Pipeline([(\"standardizer\", standardizer), \n",
    "                 (\"knn\", knn)])\n",
    "\n",
    "# Create space of candidate values\n",
    "search_space = [{\"knn__n_neighbors\": list(range(1,11))}]\n",
    "\n",
    "# Create grid search\n",
    "classifier = GridSearchCV(pipe, \n",
    "                          search_space, \n",
    "                          cv=5, \n",
    "                          verbose=0)\n",
    "classifier.fit(features_standardized, target)"
   ]
  },
  {
   "cell_type": "code",
   "execution_count": 25,
   "id": "ec874177-0a6b-47db-80d3-3f6dd32e5119",
   "metadata": {},
   "outputs": [
    {
     "data": {
      "text/plain": [
       "6"
      ]
     },
     "execution_count": 25,
     "metadata": {},
     "output_type": "execute_result"
    }
   ],
   "source": [
    "# Best neighborhood size (k)\n",
    "classifier.best_estimator_.get_params()[\"knn__n_neighbors\"]"
   ]
  },
  {
   "cell_type": "markdown",
   "id": "9790c249-5c02-470c-be20-d6abc2ec9a5c",
   "metadata": {},
   "source": [
    "### 3.4 Creating a Radius-Based Nearest Neighbor Classifier"
   ]
  },
  {
   "cell_type": "code",
   "execution_count": 26,
   "id": "8208a691-ea3b-4907-9c1a-264d90bf74ae",
   "metadata": {},
   "outputs": [
    {
     "data": {
      "text/plain": [
       "RadiusNeighborsClassifier(n_jobs=-1, radius=0.5)"
      ]
     },
     "execution_count": 26,
     "metadata": {},
     "output_type": "execute_result"
    }
   ],
   "source": [
    "# Load data\n",
    "iris = load_iris()\n",
    "X = iris.data\n",
    "y = iris.target\n",
    "\n",
    "# Create standardizer & standardize features\n",
    "standardizer = StandardScaler()\n",
    "X_std = standardizer.fit_transform(X)\n",
    "\n",
    "# Train a radius neighbors classifier\n",
    "rnn = RadiusNeighborsClassifier(radius=.5, \n",
    "                                n_jobs=-1)\n",
    "rnn.fit(features_standardized, target)"
   ]
  },
  {
   "cell_type": "code",
   "execution_count": 28,
   "id": "21f23b9b-6f8f-420c-9fa7-aa3aee30067f",
   "metadata": {},
   "outputs": [
    {
     "data": {
      "text/plain": [
       "array(['virginica'], dtype='<U10')"
      ]
     },
     "execution_count": 28,
     "metadata": {},
     "output_type": "execute_result"
    }
   ],
   "source": [
    "# Create two observations\n",
    "new_observations = [[ 1, 1, 1, 1]]\n",
    "\n",
    "# Predict the class of two observations\n",
    "iris.target_names[rnn.predict(new_observations)]"
   ]
  },
  {
   "cell_type": "markdown",
   "id": "67cec9c8-b8c0-4a99-b64d-ca29d5928519",
   "metadata": {},
   "source": [
    "## 4. Logistic Regression\n",
    " Logistic regression and its extensions, like multinomial\n",
    "logistic regression, allow us to predict the probability that an observation is of a certain class using a straightforward and well-understood approach."
   ]
  },
  {
   "cell_type": "markdown",
   "id": "798ac299-255c-436c-b9b8-b5fd22082771",
   "metadata": {},
   "source": [
    "### 4.1 Training a Binary Classifier"
   ]
  },
  {
   "cell_type": "code",
   "execution_count": 2,
   "id": "a00c3457-420d-4108-8901-6399b695d1c6",
   "metadata": {},
   "outputs": [],
   "source": [
    "# Load data with only two classes\n",
    "iris = load_iris()\n",
    "features = iris.data[:100,:]\n",
    "target = iris.target[:100]\n",
    "\n",
    "# Standardize features\n",
    "scaler = StandardScaler()\n",
    "features_standardized = scaler.fit_transform(features)\n",
    "\n",
    "# Create logistic regression object\n",
    "logistic_regression = LogisticRegression(random_state=0)\n",
    "\n",
    "# Train model\n",
    "model = logistic_regression.fit(features_standardized, target)"
   ]
  },
  {
   "cell_type": "code",
   "execution_count": 3,
   "id": "8bf55e6b-49c6-4f9f-826e-5e76773fe043",
   "metadata": {},
   "outputs": [
    {
     "data": {
      "text/plain": [
       "array(['versicolor'], dtype='<U10')"
      ]
     },
     "execution_count": 3,
     "metadata": {},
     "output_type": "execute_result"
    }
   ],
   "source": [
    "# Create new observation\n",
    "new_observation = [[.5, .5, .5, .5]]\n",
    "\n",
    "# Predict class\n",
    "prediksi = model.predict(new_observation)\n",
    "iris.target_names[prediksi]"
   ]
  },
  {
   "cell_type": "code",
   "execution_count": 4,
   "id": "754cafc3-d480-4a20-a757-7fd03161833f",
   "metadata": {},
   "outputs": [
    {
     "data": {
      "text/plain": [
       "array([[0.17738424, 0.82261576]])"
      ]
     },
     "execution_count": 4,
     "metadata": {},
     "output_type": "execute_result"
    }
   ],
   "source": [
    "# View predicted probabilities\n",
    "model.predict_proba(new_observation)"
   ]
  },
  {
   "cell_type": "markdown",
   "id": "c64ccac6-6836-40ae-bc3e-bd262ca5b59b",
   "metadata": {},
   "source": [
    "pada prediksi kita memiliki probabilitas untuk mengklasifikasikan ke klas 0 sebanyak 17% sedangkan probabilitas untuk mengklasifikasikan ke dalam kelas 1 sebanyak 83%"
   ]
  },
  {
   "cell_type": "markdown",
   "id": "76a054ed-32dd-4c1a-b294-cfb8848fab24",
   "metadata": {},
   "source": [
    "### 4.2 Training a Multiclass Classifier"
   ]
  },
  {
   "cell_type": "code",
   "execution_count": 5,
   "id": "254abde1-5636-42b5-b82f-7318cf633694",
   "metadata": {},
   "outputs": [],
   "source": [
    "# Load data\n",
    "iris = load_iris()\n",
    "features = iris.data\n",
    "target = iris.target\n",
    "\n",
    "# Standardize features\n",
    "scaler = StandardScaler()\n",
    "features_standardized = scaler.fit_transform(features)\n",
    "\n",
    "# Create one-vs-rest logistic regression object\n",
    "logistic_regression = LogisticRegression(random_state=0, \n",
    "                                         multi_class=\"ovr\")\n",
    "\n",
    "# Train model\n",
    "model = logistic_regression.fit(features_standardized, target)"
   ]
  },
  {
   "cell_type": "markdown",
   "id": "019a1505-7114-42d8-ad80-4e8bfd00ddab",
   "metadata": {},
   "source": [
    "Logistic regression hanya dapat mengkalsifikasikan 2 kelas, tetapi dengan hyperparameter atau extension dapat membuat logistic regression untuk mengklasifikasikan banyak kelas dengan prinsip one vs rest (OVR)."
   ]
  },
  {
   "cell_type": "markdown",
   "id": "6a5d0beb-30cf-4024-88b1-031f14b61724",
   "metadata": {},
   "source": [
    "### 4.3 Reducing Variance Through Regularization"
   ]
  },
  {
   "cell_type": "code",
   "execution_count": 8,
   "id": "8bbf4ac8-c0d9-4094-94c6-372c88f112b7",
   "metadata": {},
   "outputs": [],
   "source": [
    "# Load data\n",
    "iris = load_iris()\n",
    "features = iris.data\n",
    "target = iris.target\n",
    "\n",
    "# Standardize features\n",
    "scaler = StandardScaler()\n",
    "features_standardized = scaler.fit_transform(features)\n",
    "\n",
    "# Create decision tree classifier object\n",
    "logistic_regression = LogisticRegressionCV(penalty='l2', \n",
    "                                           Cs=10, \n",
    "                                           random_state=0,\n",
    "                                           n_jobs=-1)\n",
    "\n",
    "# Train model\n",
    "model = logistic_regression.fit(features_standardized, target)"
   ]
  },
  {
   "cell_type": "markdown",
   "id": "d448860f-d7c4-4b94-aef7-bb852517b2ae",
   "metadata": {},
   "source": [
    "Regularization is a method of penalizing complex models to reduce their variance.\n",
    "Specifically, a penalty term is added to the loss function we are trying to minimize,\n",
    "typically the L1 and L2 penalties"
   ]
  },
  {
   "cell_type": "markdown",
   "id": "ab9e5b2c-deca-4937-b408-e30e1b8a91c5",
   "metadata": {},
   "source": [
    "### 4.4 Training a Classifier on Very Large Data"
   ]
  },
  {
   "cell_type": "code",
   "execution_count": 9,
   "id": "aabdc9df-f1fb-4363-b6e9-20bb5f511e76",
   "metadata": {},
   "outputs": [],
   "source": [
    "# Load data\n",
    "iris = load_iris()\n",
    "features = iris.data\n",
    "target = iris.target\n",
    "\n",
    "# Standardize features\n",
    "scaler = StandardScaler()\n",
    "features_standardized = scaler.fit_transform(features)\n",
    "\n",
    "# Create logistic regression object\n",
    "logistic_regression = LogisticRegression(random_state=0,\n",
    "                                         solver=\"sag\")\n",
    "\n",
    "# Train model\n",
    "model = logistic_regression.fit(features_standardized, target)"
   ]
  },
  {
   "cell_type": "markdown",
   "id": "7cb1b04a-bb61-4dc7-9589-cf93994f71c1",
   "metadata": {},
   "source": [
    "### 4.5 Handling Imbalanced Classes"
   ]
  },
  {
   "cell_type": "code",
   "execution_count": 14,
   "id": "8928115b-3cd7-4537-a4c7-b649796a6d9d",
   "metadata": {},
   "outputs": [],
   "source": [
    "iris = load_iris()\n",
    "features = iris.data\n",
    "target = iris.target\n",
    "\n",
    "# Make class highly imbalanced by removing first 40 observations\n",
    "features = features[40:,:]\n",
    "target = target[40:]\n",
    "\n",
    "# Create target vector indicating if class 0, otherwise 1\n",
    "target = np.where((target == 0), 0, 1)\n",
    "\n",
    "# Standardize features\n",
    "scaler = StandardScaler()\n",
    "features_standardized = scaler.fit_transform(features)\n",
    "\n",
    "# Create decision tree classifier object\n",
    "logistic_regression = LogisticRegression(random_state=0,\n",
    "                                         class_weight=\"balanced\")\n",
    "\n",
    "# Train model\n",
    "model = logistic_regression.fit(features_standardized, target)"
   ]
  },
  {
   "cell_type": "markdown",
   "id": "764ade02-485b-497e-89ec-6f55db60963c",
   "metadata": {},
   "source": [
    "## 5. Support Vector Machines\n",
    "To understand support vector machines, we must understand hyperplanes. Formally,\n",
    "a hyperplane is an n – 1 subspace in an n-dimensional space.  A hyperplane is simply a generalization of that concept into n dimensions."
   ]
  },
  {
   "cell_type": "markdown",
   "id": "33c91178-28d9-4f17-9eda-f22b0b7cb139",
   "metadata": {},
   "source": [
    "### 5.1 Training a Linear Classifier"
   ]
  },
  {
   "cell_type": "code",
   "execution_count": 17,
   "id": "d85e51bf-061d-4abc-a8c1-d6cce207bbea",
   "metadata": {},
   "outputs": [],
   "source": [
    "# Load data with only two classes and two features\n",
    "iris = load_iris()\n",
    "features = iris.data[:100,:2]\n",
    "target = iris.target[:100]\n",
    "\n",
    "# Standardize features\n",
    "scaler = StandardScaler()\n",
    "features_standardized = scaler.fit_transform(features)\n",
    "\n",
    "# Create support vector classifier\n",
    "svc = LinearSVC(C=1.0)\n",
    "\n",
    "# Train model\n",
    "model = svc.fit(features_standardized, target)"
   ]
  },
  {
   "cell_type": "code",
   "execution_count": 19,
   "id": "cdb36c74-4300-4795-916a-0dde60052a5c",
   "metadata": {},
   "outputs": [
    {
     "data": {
      "image/png": "[encoded data removed]",
      "text/plain": [
       "<Figure size 432x288 with 1 Axes>"
      ]
     },
     "metadata": {
      "needs_background": "light"
     },
     "output_type": "display_data"
    }
   ],
   "source": [
    "#  Plot data points and color using their class\n",
    "color = [\"black\" if c == 0 else \"lightgrey\" for c in target]\n",
    "plt.scatter(features_standardized[:,0], features_standardized[:,1], c=color)\n",
    "\n",
    "# Create the hyperplane\n",
    "w = svc.coef_[0]\n",
    "a = -w[0] / w[1]\n",
    "xx = np.linspace(-2.5, 2.5)\n",
    "yy = a * xx - (svc.intercept_[0]) / w[1]\n",
    "\n",
    "# Plot the hyperplane\n",
    "plt.plot(xx, yy)\n",
    "plt.show();"
   ]
  },
  {
   "cell_type": "code",
   "execution_count": 20,
   "id": "a261b6b1-c1f8-4bf3-b373-2054950ebcc8",
   "metadata": {},
   "outputs": [
    {
     "data": {
      "text/plain": [
       "array([0])"
      ]
     },
     "execution_count": 20,
     "metadata": {},
     "output_type": "execute_result"
    }
   ],
   "source": [
    "# Create new observation\n",
    "new_observation = [[ -2, 3]]\n",
    "\n",
    "# Predict class of new observation\n",
    "svc.predict(new_observation)"
   ]
  },
  {
   "cell_type": "markdown",
   "id": "2b61b409-dfc1-48df-86b2-73c873f28962",
   "metadata": {},
   "source": [
    "*C, the penalty imposed on errors. C is a parameter of the SVC learner and is the pen‐\n",
    "alty for misclassifying a data point. When C is small, the classifier is okay with mis‐\n",
    "classified data points (high bias but low variance). When C is large, the classifier is\n",
    "heavily penalized for misclassified data and therefore bends over backwards to avoid\n",
    "any misclassified data points (low bias but high variance).*"
   ]
  },
  {
   "cell_type": "markdown",
   "id": "59d1b6d3-60e7-4514-914c-fb25f04d00d0",
   "metadata": {},
   "source": [
    "### 5.2 Handling Linearly Inseparable Classes Using Kernels"
   ]
  },
  {
   "cell_type": "code",
   "execution_count": 5,
   "id": "e98800c9-e812-4b07-9b48-129db783d95a",
   "metadata": {},
   "outputs": [],
   "source": [
    "# Set randomization seed\n",
    "np.random.seed(0)\n",
    "\n",
    "# Generate two features\n",
    "features = np.random.randn(200, 2)\n",
    "\n",
    "# Use a XOR gate \n",
    "target_xor = np.logical_xor(features[:, 0] > 0, features[:, 1] > 0)\n",
    "target = np.where(target_xor, 0, 1)\n",
    "\n",
    "# Create a support vector machine with a radial basis function kernel\n",
    "svc = SVC(kernel=\"rbf\", random_state=0, gamma=1, C=1)\n",
    "\n",
    "# Train the classifier\n",
    "model = svc.fit(features, target)"
   ]
  },
  {
   "cell_type": "code",
   "execution_count": 7,
   "id": "1237b14e-8262-468e-8062-9901822c942f",
   "metadata": {},
   "outputs": [],
   "source": [
    "# Plot observations and decision boundary hyperplane\n",
    "def plot_decision_regions(X, y, classifier):\n",
    "    cmap = ListedColormap((\"red\", \"blue\"))\n",
    "    xx1, xx2 = np.meshgrid(np.arange(-3, 3, 0.02), np.arange(-3, 3, 0.02))\n",
    "    Z = classifier.predict(np.array([xx1.ravel(), xx2.ravel()]).T)\n",
    "    Z = Z.reshape(xx1.shape)\n",
    "    plt.contourf(xx1, xx2, Z, alpha=0.1, cmap=cmap)\n",
    "    \n",
    "    for idx, cl in enumerate(np.unique(y)):\n",
    "        plt.scatter(x=X[y == cl, 0], y=X[y == cl, 1],\n",
    "                    alpha=0.8, c=cmap(idx),\n",
    "                    marker=\"+\", label=cl)"
   ]
  },
  {
   "cell_type": "code",
   "execution_count": 8,
   "id": "e5006e47-d201-4cb3-969c-df3520ede34a",
   "metadata": {},
   "outputs": [
    {
     "data": {
      "text/plain": [
       "SVC(C=1, kernel='linear', random_state=0)"
      ]
     },
     "execution_count": 8,
     "metadata": {},
     "output_type": "execute_result"
    }
   ],
   "source": [
    "# Create support vector classifier with a linear kernel\n",
    "svc_linear = SVC(kernel=\"linear\", random_state=0, C=1)\n",
    "\n",
    "# Train model\n",
    "svc_linear.fit(features, target)"
   ]
  },
  {
   "cell_type": "markdown",
   "id": "dcb97de7-3186-4b42-94a3-72681db0d5de",
   "metadata": {},
   "source": [
    "Next, since we have only two features, we are working in a two-dimensional space\n",
    "and can visualize the observations, their classes, and our model’s linear hyperplane:"
   ]
  },
  {
   "cell_type": "code",
   "execution_count": 11,
   "id": "d130a596-d87d-490e-8896-84222d0accd1",
   "metadata": {},
   "outputs": [
    {
     "name": "stderr",
     "output_type": "stream",
     "text": [
      "*c* argument looks like a single numeric RGB or RGBA sequence, which should be avoided as value-mapping will have precedence in case its length matches with *x* & *y*.  Please use the *color* keyword-argument or provide a 2-D array with a single row if you intend to specify the same RGB or RGBA value for all points.\n",
      "*c* argument looks like a single numeric RGB or RGBA sequence, which should be avoided as value-mapping will have precedence in case its length matches with *x* & *y*.  Please use the *color* keyword-argument or provide a 2-D array with a single row if you intend to specify the same RGB or RGBA value for all points.\n"
     ]
    },
    {
     "data": {
      "image/png": "[encoded data removed]",
      "text/plain": [
       "<Figure size 432x288 with 1 Axes>"
      ]
     },
     "metadata": {
      "needs_background": "light"
     },
     "output_type": "display_data"
    }
   ],
   "source": [
    "# Plot observations and hyperplane\n",
    "plot_decision_regions(features, target, classifier=svc_linear)\n",
    "plt.axis('off')\n",
    "plt.show()"
   ]
  },
  {
   "cell_type": "markdown",
   "id": "6e7e8949-d30e-438d-a0c6-62be0b501e40",
   "metadata": {},
   "source": [
    "As we can see, our linear hyperplane did very poorly at dividing the two classes! Now,\n",
    "let’s swap out the linear kernel with a radial basis function kernel and use it to train a\n",
    "new model:"
   ]
  },
  {
   "cell_type": "code",
   "execution_count": 12,
   "id": "47d4b192-67f4-4664-8bfa-3018497ff917",
   "metadata": {},
   "outputs": [
    {
     "name": "stderr",
     "output_type": "stream",
     "text": [
      "*c* argument looks like a single numeric RGB or RGBA sequence, which should be avoided as value-mapping will have precedence in case its length matches with *x* & *y*.  Please use the *color* keyword-argument or provide a 2-D array with a single row if you intend to specify the same RGB or RGBA value for all points.\n",
      "*c* argument looks like a single numeric RGB or RGBA sequence, which should be avoided as value-mapping will have precedence in case its length matches with *x* & *y*.  Please use the *color* keyword-argument or provide a 2-D array with a single row if you intend to specify the same RGB or RGBA value for all points.\n"
     ]
    },
    {
     "data": {
      "image/png": "[encoded data removed]",
      "text/plain": [
       "<Figure size 432x288 with 1 Axes>"
      ]
     },
     "metadata": {
      "needs_background": "light"
     },
     "output_type": "display_data"
    }
   ],
   "source": [
    "# Create a support vector machine with a radial basis function kernel\n",
    "svc = SVC(kernel=\"rbf\", random_state=0, gamma=1, C=1)\n",
    "\n",
    "# Train the classifier\n",
    "model = svc.fit(features, target)\n",
    "\n",
    "# Plot observations and hyperplane\n",
    "plot_decision_regions(features, target, classifier=svc)\n",
    "plt.axis(\"off\"), plt.show();"
   ]
  },
  {
   "cell_type": "markdown",
   "id": "94be7b70-f18d-4c92-af9e-8d4bf2d87ad5",
   "metadata": {},
   "source": [
    "### 5.3 Creating Predicted Probabilities"
   ]
  },
  {
   "cell_type": "code",
   "execution_count": 16,
   "id": "37a82b65-7f4e-41a7-8ff2-eda99b079a22",
   "metadata": {},
   "outputs": [
    {
     "data": {
      "text/plain": [
       "array([[0.00541761, 0.97348825, 0.02109414]])"
      ]
     },
     "execution_count": 16,
     "metadata": {},
     "output_type": "execute_result"
    }
   ],
   "source": [
    "# Load data\n",
    "iris = load_iris()\n",
    "features = iris.data\n",
    "target = iris.target\n",
    "\n",
    "# Standardize features\n",
    "scaler = StandardScaler()\n",
    "features_standardized = scaler.fit_transform(features)\n",
    "\n",
    "# Create support vector classifier object\n",
    "svc = SVC(kernel=\"linear\", probability=True, random_state=0)\n",
    "\n",
    "# Train classifier\n",
    "model = svc.fit(features_standardized, target)\n",
    "\n",
    "# Create new observation\n",
    "new_observation = [[.4, .4, .4, .4]]\n",
    "\n",
    "# View predicted probabilities\n",
    "model.predict_proba(new_observation)"
   ]
  },
  {
   "cell_type": "markdown",
   "id": "0de89a76-8650-4b0c-b495-4d7caf8e7f4f",
   "metadata": {},
   "source": [
    "### 5.4 Identifying Support Vectors"
   ]
  },
  {
   "cell_type": "code",
   "execution_count": 18,
   "id": "8c732ba5-aa60-42a9-98e1-1dd87cbdac0c",
   "metadata": {},
   "outputs": [
    {
     "data": {
      "text/plain": [
       "array([[-0.5810659 ,  0.42196824, -0.80497402, -0.50860702],\n",
       "       [-1.52079513, -1.67737625, -1.08231219, -0.86427627],\n",
       "       [-0.89430898, -1.4674418 ,  0.30437864,  0.38056609],\n",
       "       [-0.5810659 , -1.25750735,  0.09637501,  0.55840072]])"
      ]
     },
     "execution_count": 18,
     "metadata": {},
     "output_type": "execute_result"
    }
   ],
   "source": [
    "#Load data with only two classes\n",
    "iris = load_iris()\n",
    "features = iris.data[:100,:]\n",
    "target = iris.target[:100]\n",
    "\n",
    "# Standardize features\n",
    "scaler = StandardScaler()\n",
    "features_standardized = scaler.fit_transform(features)\n",
    "\n",
    "# Create support vector classifier object\n",
    "svc = SVC(kernel=\"linear\", random_state=0)\n",
    "\n",
    "# Train classifier\n",
    "model = svc.fit(features_standardized, target)\n",
    "\n",
    "# View support vectors\n",
    "model.support_vectors_"
   ]
  },
  {
   "cell_type": "markdown",
   "id": "d4e052a2-3d3e-4be8-bdec-cd368406849d",
   "metadata": {},
   "source": [
    "After we have trained an SVC, scikit-learn offers us a number of options for identify‐\n",
    "ing the support vector. In our solution, we used support_vectors_ to output the\n",
    "actual observations’ features of the four support vectors in our model. Alternatively,\n",
    "we can view the indices of the support vectors using support_:"
   ]
  },
  {
   "cell_type": "code",
   "execution_count": 19,
   "id": "2af82e8a-e1bd-41e3-83e9-3f0894057bc7",
   "metadata": {},
   "outputs": [
    {
     "data": {
      "text/plain": [
       "array([23, 41, 57, 98])"
      ]
     },
     "execution_count": 19,
     "metadata": {},
     "output_type": "execute_result"
    }
   ],
   "source": [
    "model.support_"
   ]
  },
  {
   "cell_type": "code",
   "execution_count": 20,
   "id": "8060d06b-ecb4-48f3-a9a9-194ec5878639",
   "metadata": {},
   "outputs": [
    {
     "data": {
      "text/plain": [
       "array([2, 2])"
      ]
     },
     "execution_count": 20,
     "metadata": {},
     "output_type": "execute_result"
    }
   ],
   "source": [
    "model.n_support_"
   ]
  },
  {
   "cell_type": "markdown",
   "id": "deb33c0a-f4e9-4349-8df8-acd77c34e24a",
   "metadata": {},
   "source": [
    "### 5.5 Handling Imbalanced Classes"
   ]
  },
  {
   "cell_type": "code",
   "execution_count": 21,
   "id": "10029865-e94c-4aef-96d6-562124b650a3",
   "metadata": {},
   "outputs": [],
   "source": [
    "#Load data with only two classes\n",
    "iris = load_iris()\n",
    "features = iris.data[:100,:]\n",
    "target = iris.target[:100]\n",
    "\n",
    "# Make class highly imbalanced by removing first 40 observations\n",
    "features = features[40:,:]\n",
    "target = target[40:]\n",
    "\n",
    "# Create target vector indicating if class 0, otherwise 1\n",
    "target = np.where((target == 0), 0, 1)\n",
    "\n",
    "# Standardize features\n",
    "scaler = StandardScaler()\n",
    "features_standardized = scaler.fit_transform(features)\n",
    "\n",
    "# Create support vector classifier\n",
    "svc = SVC(kernel=\"linear\", class_weight=\"balanced\", C=1.0, random_state=0)\n",
    "\n",
    "# Train classifier\n",
    "model = svc.fit(features_standardized, target)"
   ]
  },
  {
   "cell_type": "markdown",
   "id": "d00469e7-d553-4e02-80c4-3b65d6347daf",
   "metadata": {},
   "source": [
    "*In scikit-learn, when using SVC we can set the values for Cj\n",
    " automatically by setting\n",
    "class_weight='balanced'. The balanced argument automatically weighs classes*"
   ]
  },
  {
   "cell_type": "markdown",
   "id": "fe3f276e-80dd-49bd-849d-ac06d2f78152",
   "metadata": {},
   "source": [
    "## 6. Naive Bayes\n",
    "Naive Bayes menggunakan pengetahuan probabilitas yang paling mendasar dan membuat asumsi naif bahwa semua fitur adalah independen. Terlepas dari kesederhanaannya (beberapa orang mungkin mengatakan penyederhanaan berlebihan), Naive Bayes memberikan kinerja yang layak di banyak aplikasi."
   ]
  },
  {
   "cell_type": "code",
   "execution_count": 3,
   "id": "b263fd72-9c3d-4653-b36c-b0241c6abeda",
   "metadata": {},
   "outputs": [],
   "source": [
    "# Load data\n",
    "iris = load_iris()\n",
    "features = iris.data\n",
    "target = iris.target\n",
    "\n",
    "classifer = GaussianNB()\n",
    "model = classifer.fit(features, target)"
   ]
  },
  {
   "cell_type": "markdown",
   "id": "b9965cf6-d629-4cbf-ada2-7f9ac31c39ab",
   "metadata": {},
   "source": [
    "*In Gaussian naive Bayes, we assume that the likelihood of the feature values, x, given an\n",
    "observation is of class y, follows a normal distribution*"
   ]
  },
  {
   "cell_type": "code",
   "execution_count": 5,
   "id": "bcb0f53e-0e9f-4d20-a5a7-a42e4f7db066",
   "metadata": {},
   "outputs": [
    {
     "data": {
      "text/plain": [
       "array(['versicolor'], dtype='<U10')"
      ]
     },
     "execution_count": 5,
     "metadata": {},
     "output_type": "execute_result"
    }
   ],
   "source": [
    "# predict new observation \n",
    "new = [4, 4, 4, 0.5]\n",
    "prediksi = model.predict([new])\n",
    "iris.target_names[prediksi]"
   ]
  },
  {
   "cell_type": "markdown",
   "id": "4158ff55-6406-4978-96ff-82b59d8f03cc",
   "metadata": {},
   "source": [
    "One of the interesting aspects of naive Bayes classifiers is that they allow us to assign a\n",
    "prior belief over the respected target classes."
   ]
  },
  {
   "cell_type": "code",
   "execution_count": 6,
   "id": "dee34d13-4ce7-4543-8d5c-8770363f8b26",
   "metadata": {},
   "outputs": [],
   "source": [
    "# Create Gaussian Naive Bayes object with prior probabilities of each class\n",
    "clf = GaussianNB(priors=[0.25, 0.25, 0.5])\n",
    "\n",
    "# Train model\n",
    "model = classifer.fit(features, target)"
   ]
  },
  {
   "cell_type": "markdown",
   "id": "ded3400a-5019-4822-92ae-ba9ae565b771",
   "metadata": {},
   "source": [
    "### 6.2 Training a Classifier for Discrete and Count Features"
   ]
  },
  {
   "cell_type": "code",
   "execution_count": 10,
   "id": "eee1dca1-ac4d-46a8-be05-3d3a1d703330",
   "metadata": {},
   "outputs": [],
   "source": [
    "# Create text\n",
    "text_data = np.array(['I love Brazil. Brazil!',\n",
    "                      'Brazil is best',\n",
    "                      'Germany beats both'])\n",
    "\n",
    "# Create bag of words\n",
    "count = CountVectorizer()\n",
    "bag_of_words = count.fit_transform(text_data)\n",
    "\n",
    "# Create feature matrix\n",
    "features = bag_of_words.toarray()\n",
    "\n",
    "# Create target vector\n",
    "target = np.array([0,0,1])\n",
    "\n",
    "# Create multinomial naive Bayes object with prior probabilities of each class\n",
    "classifer = MultinomialNB(class_prior=[0.25, 0.5])\n",
    "\n",
    "# Train model\n",
    "model = classifer.fit(features, target)"
   ]
  },
  {
   "cell_type": "code",
   "execution_count": 16,
   "id": "d9eeec95-bb3f-43e9-9a5d-3133a8a1a0df",
   "metadata": {},
   "outputs": [
    {
     "data": {
      "text/plain": [
       "array([0])"
      ]
     },
     "execution_count": 16,
     "metadata": {},
     "output_type": "execute_result"
    }
   ],
   "source": [
    "# Create new observation\n",
    "new_observation = [[0, 0, 0, 1, 0, 1, 0]]\n",
    "\n",
    "# Predict new observation's class\n",
    "model.predict(new_observation)"
   ]
  },
  {
   "cell_type": "markdown",
   "id": "4af8d812-f373-442c-b32f-ffd31c4d3b0d",
   "metadata": {},
   "source": [
    "### 6.3  Training a Naive Bayes Classifier for Binary Features"
   ]
  },
  {
   "cell_type": "code",
   "execution_count": 17,
   "id": "ac7f435c-944f-4ecf-8f45-474ec1fdd81e",
   "metadata": {},
   "outputs": [],
   "source": [
    "# Create three binary features\n",
    "features = np.random.randint(2, size=(100, 3))\n",
    "\n",
    "# Create a binary target vector\n",
    "target = np.random.randint(2, size=(100, 1)).ravel()\n",
    "\n",
    "# Create Bernoulli Naive Bayes object \n",
    "# with prior probabilities of each class\n",
    "classifer = BernoulliNB(class_prior=[0.25, 0.5])\n",
    "\n",
    "# Train model\n",
    "model = classifer.fit(features, target)"
   ]
  },
  {
   "cell_type": "markdown",
   "id": "e1a896a3-e8a3-4562-9179-3ba3ae07e0e0",
   "metadata": {},
   "source": [
    "The Bernoulli naive Bayes classifier assumes that all our features are binary such that\n",
    "they take only two values (e.g., a nominal categorical feature that has been one-hot\n",
    "encoded)."
   ]
  },
  {
   "cell_type": "markdown",
   "id": "feaaa0af-0547-4337-897f-53125f7ed2ea",
   "metadata": {},
   "source": [
    "### 6.4 Calibrating Predicted Probabilities\n",
    "calibrate the predicted probabilities from naive Bayes classifiers in order to interpretable."
   ]
  },
  {
   "cell_type": "code",
   "execution_count": 21,
   "id": "413d102c-fe07-486f-97f5-1762ffd68793",
   "metadata": {},
   "outputs": [
    {
     "data": {
      "text/plain": [
       "CalibratedClassifierCV(base_estimator=GaussianNB(), cv=2)"
      ]
     },
     "execution_count": 21,
     "metadata": {},
     "output_type": "execute_result"
    }
   ],
   "source": [
    "# Load data\n",
    "iris = load_iris()\n",
    "features = iris.data\n",
    "target = iris.target\n",
    "\n",
    "# Create Gaussian Naive Bayes object\n",
    "classifer = GaussianNB()\n",
    "\n",
    "# Create calibrated cross-validation with sigmoid calibration\n",
    "classifer_sigmoid = CalibratedClassifierCV(classifer, \n",
    "                                           cv=2, \n",
    "                                           method='sigmoid')\n",
    "# Calibrate probabilities\n",
    "classifer_sigmoid.fit(features, target)"
   ]
  },
  {
   "cell_type": "code",
   "execution_count": 22,
   "id": "b167fd06-9053-4de9-aa3e-5886fdcdab75",
   "metadata": {},
   "outputs": [
    {
     "data": {
      "text/plain": [
       "array([[0.31859969, 0.63663466, 0.04476565]])"
      ]
     },
     "execution_count": 22,
     "metadata": {},
     "output_type": "execute_result"
    }
   ],
   "source": [
    "# Create new observation and View calibrated probabilities\n",
    "new_observation = [[ 2.6, 2.6, 2.6, 0.4]]\n",
    "classifer_sigmoid.predict_proba(new_observation)"
   ]
  },
  {
   "cell_type": "markdown",
   "id": "17960057-7162-482d-8a0a-01f6559091b5",
   "metadata": {},
   "source": [
    "*Untuk mendapatkan probabilitas prediksi yang berarti, kita perlu melakukan apa yang disebut kalibrasi. tion. Dalam scikit-learn kita dapat menggunakan kelas CalibratedClassifierCV untuk membuat probabilitas prediksi yang dikalibrasi dengan baik menggunakan validasi silang k-fold. Di CalibratedClassi fierCV set pelatihan digunakan untuk melatih model dan set tes digunakan untuk mengkalibrasi probabilitas yang diprediksi. Probabilitas prediksi yang dikembalikan adalah rata-rata dari k-folds. Dengan menggunakan solusi kami, kami dapat melihat perbedaan antara probabilitas terprediksi mentah dan terkalibrasi dengan baik. Dalam solusi kami, kami membuat pengklasifikasi Gaussian naive Bayes. Jika kita melatih pengklasifikasi itu dan kemudian memprediksi probabilitas kelas untuk pengamatan baru, kita dapat melihat perkiraan probabilitas yang sangat ekstrim*"
   ]
  },
  {
   "cell_type": "code",
   "execution_count": 23,
   "id": "0efaf761-8efe-4f42-9025-61b9606d72cd",
   "metadata": {},
   "outputs": [
    {
     "data": {
      "text/plain": [
       "array([[2.31548432e-04, 9.99768128e-01, 3.23532277e-07]])"
      ]
     },
     "execution_count": 23,
     "metadata": {},
     "output_type": "execute_result"
    }
   ],
   "source": [
    "# Train a Gaussian naive Bayes then predict class probabilities\n",
    "classifer.fit(features, target).predict_proba(new_observation)"
   ]
  },
  {
   "cell_type": "markdown",
   "id": "f9a3d059-2f9f-4e5c-bab6-403b7b9e51e0",
   "metadata": {},
   "source": [
    "## 7. Clustering"
   ]
  },
  {
   "cell_type": "markdown",
   "id": "b5f5ab73-c4ed-4905-bdbf-362937fbca6b",
   "metadata": {},
   "source": [
    "Klaster (cluster) adalah sebuah grup yang memiliki kemiripan tertentu. Pengklasteran adalah sebuah metode machine learning unsupervised untuk mengelompokkan objek-objek yang memiliki kemiripan, ke dalam sebuah klaster."
   ]
  },
  {
   "cell_type": "markdown",
   "id": "1a5fc165-ec86-478b-8b9c-73c833484a10",
   "metadata": {},
   "source": [
    "### 7.1 Clustering Using K-Means"
   ]
  },
  {
   "cell_type": "code",
   "execution_count": 26,
   "id": "45b4c7c9-fbba-4e2e-8aaa-9763ef8ce8ae",
   "metadata": {},
   "outputs": [],
   "source": [
    "# Load data\n",
    "iris = load_iris()\n",
    "features = iris.data\n",
    "\n",
    "# Standardize features\n",
    "scaler = StandardScaler()\n",
    "features_std = scaler.fit_transform(features)\n",
    "\n",
    "# Create k-mean object\n",
    "cluster = KMeans(n_clusters=3, \n",
    "                 random_state=0)\n",
    "\n",
    "# Train model\n",
    "model = cluster.fit(features_std)"
   ]
  },
  {
   "cell_type": "code",
   "execution_count": 30,
   "id": "2ddd91c0-19e2-41dd-84ee-e5b1cb33c81f",
   "metadata": {},
   "outputs": [
    {
     "data": {
      "text/plain": [
       "0.24"
      ]
     },
     "execution_count": 30,
     "metadata": {},
     "output_type": "execute_result"
    }
   ],
   "source": [
    "# View predict class\n",
    "akurasi = (sum(model.labels_ == iris.target)/ len(iris.target)).mean()\n",
    "akurasi"
   ]
  },
  {
   "cell_type": "code",
   "execution_count": 34,
   "id": "0bddfdad-a358-4a27-9224-d6e573f612b2",
   "metadata": {},
   "outputs": [
    {
     "name": "stdout",
     "output_type": "stream",
     "text": [
      "1 == 0\n",
      "1 == 0\n",
      "1 == 0\n",
      "1 == 0\n",
      "1 == 0\n",
      "1 == 0\n",
      "1 == 0\n",
      "1 == 0\n",
      "1 == 0\n",
      "1 == 0\n",
      "1 == 0\n"
     ]
    }
   ],
   "source": [
    "# view predict class and true class\n",
    "for predict,true in zip(model.labels_[:11], iris.target[:11]):\n",
    "    print(f'{predict} == {true}')"
   ]
  },
  {
   "cell_type": "markdown",
   "id": "0e13aee5-d199-4c1a-a814-05624aa974de",
   "metadata": {},
   "source": [
    "However, as you might imagine, the performance of k-means drops considerably,\n",
    "even critically, if we select the wrong number of clusters"
   ]
  },
  {
   "cell_type": "code",
   "execution_count": 40,
   "id": "0df3aca2-ea44-480e-9c02-bccace432305",
   "metadata": {},
   "outputs": [
    {
     "data": {
      "text/plain": [
       "array([2])"
      ]
     },
     "execution_count": 40,
     "metadata": {},
     "output_type": "execute_result"
    }
   ],
   "source": [
    "# Create new observation\n",
    "new_observation = [[0.8, 0.8, 0.8, 0.8]]\n",
    "\n",
    "# Predict observation's cluster\n",
    "model.predict(new_observation)"
   ]
  },
  {
   "cell_type": "code",
   "execution_count": 41,
   "id": "9bfb018a-7a51-4de5-a59f-fc296987c024",
   "metadata": {},
   "outputs": [
    {
     "data": {
      "text/plain": [
       "array([[-0.05021989, -0.88337647,  0.34773781,  0.2815273 ],\n",
       "       [-1.01457897,  0.85326268, -1.30498732, -1.25489349],\n",
       "       [ 1.13597027,  0.08842168,  0.99615451,  1.01752612]])"
      ]
     },
     "execution_count": 41,
     "metadata": {},
     "output_type": "execute_result"
    }
   ],
   "source": [
    "# View cluster centers\n",
    "model.cluster_centers_"
   ]
  },
  {
   "cell_type": "markdown",
   "id": "90ef0cb4-fc7b-4579-aed8-6b18b9c19668",
   "metadata": {},
   "source": [
    "### 7.2 Speeding Up K-Means Clustering\n",
    " want to group observations into k groups, but k-means takes too long."
   ]
  },
  {
   "cell_type": "code",
   "execution_count": 45,
   "id": "3fec4dd5-6b31-4807-aa1b-21c8ad762f45",
   "metadata": {},
   "outputs": [
    {
     "name": "stderr",
     "output_type": "stream",
     "text": [
      "C:\\Users\\hp\\anaconda3\\lib\\site-packages\\sklearn\\cluster\\_kmeans.py:1046: UserWarning: MiniBatchKMeans is known to have a memory leak on Windows with MKL, when there are less chunks than available threads. You can prevent it by setting batch_size >= 1024 or by setting the environment variable OMP_NUM_THREADS=1\n",
      "  warnings.warn(\n"
     ]
    }
   ],
   "source": [
    "# Load data\n",
    "iris = load_iris()\n",
    "features = iris.data\n",
    "\n",
    "# Standardize features\n",
    "scaler = StandardScaler()\n",
    "features_std = scaler.fit_transform(features)\n",
    "\n",
    "# Create k-mean object\n",
    "cluster = MiniBatchKMeans(n_clusters=3, \n",
    "                          random_state=0, \n",
    "                          batch_size=100)\n",
    "\n",
    "# Train model\n",
    "model = cluster.fit(features_std)"
   ]
  },
  {
   "cell_type": "markdown",
   "id": "60283dca-835c-4a3d-b015-928dad961270",
   "metadata": {},
   "source": [
    "### 7.3 Clustering Using Meanshift\n",
    "Mengelompokkan pengamatan tanpa mengasumsikan jumlah cluster atau bentuknya"
   ]
  },
  {
   "cell_type": "code",
   "execution_count": 46,
   "id": "2d7618b2-7aa4-411d-87b8-2c5756a837cb",
   "metadata": {},
   "outputs": [],
   "source": [
    "# Load data\n",
    "iris = load_iris()\n",
    "features = iris.data\n",
    "\n",
    "# Standardize features\n",
    "scaler = StandardScaler()\n",
    "features_std = scaler.fit_transform(features)\n",
    "\n",
    "# Create meanshift object\n",
    "cluster = MeanShift(n_jobs=-1)\n",
    "\n",
    "# Train model\n",
    "model = cluster.fit(features_std)"
   ]
  },
  {
   "cell_type": "markdown",
   "id": "7112cfea-e156-4d34-a12d-31d33e65b373",
   "metadata": {},
   "source": [
    "*Analogi dari meanshift clustering: Bayangkan sebuah lapangan sepak bola yang sangat berkabut (yaitu, ruang fitur dua dimensi) dengan 100 orang berdiri di atasnya (yaitu, pengamatan kami). Karena berkabut, seseorang hanya bisa melihat jarak dekat. Setiap menit setiap orang melihat sekeliling dan mengambil langkah ke arah orang yang paling banyak mereka lihat. Seiring berjalannya waktu, orang-orang mulai berkelompok saat mereka berulang kali mengambil langkah menuju kerumunan yang lebih besar dan lebih besar. Hasil akhirnya adalah sekelompok orang di sekitar lapangan. Orang-orang ditugaskan ke kelompok di mana mereka berakhir.*"
   ]
  },
  {
   "cell_type": "markdown",
   "id": "d4f739c2-697c-44f6-91ff-17d4dbd3ab57",
   "metadata": {},
   "source": [
    "### 7.4 Clustering Using DBSCAN"
   ]
  },
  {
   "cell_type": "code",
   "execution_count": 48,
   "id": "6dc05b32-31c0-4fea-85eb-73009b095f0e",
   "metadata": {},
   "outputs": [],
   "source": [
    "# Load data\n",
    "iris = load_iris()\n",
    "features = iris.data\n",
    "\n",
    "# Standardize features\n",
    "scaler = StandardScaler()\n",
    "features_std = scaler.fit_transform(features)\n",
    "\n",
    "# Create meanshift object\n",
    "cluster = DBSCAN(n_jobs=-1)\n",
    "\n",
    "# Train model\n",
    "model = cluster.fit(features_std)"
   ]
  },
  {
   "cell_type": "code",
   "execution_count": 54,
   "id": "eb45e22e-7bad-4c8d-8a13-3809f514abf7",
   "metadata": {},
   "outputs": [
    {
     "data": {
      "text/plain": [
       "array([ 0,  0,  0,  0,  0,  0,  0,  0,  0,  0,  0,  0,  0,  0, -1, -1,  0,\n",
       "        0,  0,  0], dtype=int64)"
      ]
     },
     "execution_count": 54,
     "metadata": {},
     "output_type": "execute_result"
    }
   ],
   "source": [
    "# Show cluster membership\n",
    "model.labels_[:20]"
   ]
  },
  {
   "cell_type": "markdown",
   "id": "8adefc40-855e-4794-9924-2015fa87f349",
   "metadata": {},
   "source": [
    "### 7.5 Clustering Using Hierarchical Merging"
   ]
  },
  {
   "cell_type": "code",
   "execution_count": 55,
   "id": "933baa5d-d23c-4c98-887d-61e5a9594c67",
   "metadata": {},
   "outputs": [],
   "source": [
    "# Load data\n",
    "iris = load_iris()\n",
    "features = iris.data\n",
    "\n",
    "# Standardize features\n",
    "scaler = StandardScaler()\n",
    "features_std = scaler.fit_transform(features)\n",
    "\n",
    "# Create meanshift object\n",
    "cluster = AgglomerativeClustering(n_clusters=3)\n",
    "\n",
    "# Train model\n",
    "model = cluster.fit(features_std)"
   ]
  },
  {
   "cell_type": "code",
   "execution_count": 56,
   "id": "650f41db-32be-4652-a0de-a3ae464cd7ec",
   "metadata": {},
   "outputs": [
    {
     "data": {
      "text/plain": [
       "array([1, 1, 1, 1, 1, 1, 1, 1, 1, 1, 1, 1, 1, 1, 1, 1, 1, 1, 1, 1, 1, 1,\n",
       "       1, 1, 1, 1, 1, 1, 1, 1, 1, 1, 1, 1, 1, 1, 1, 1, 1, 1, 1, 2, 1, 1,\n",
       "       1, 1, 1, 1, 1, 1, 0, 0, 0, 2, 0, 2, 0, 2, 0, 2, 2, 0, 2, 0, 2, 0,\n",
       "       2, 2, 2, 2, 0, 0, 0, 0, 0, 0, 0, 0, 0, 2, 2, 2, 2, 0, 2, 0, 0, 2,\n",
       "       2, 2, 2, 0, 2, 2, 2, 2, 2, 0, 2, 2, 0, 0, 0, 0, 0, 0, 2, 0, 0, 0,\n",
       "       0, 0, 0, 0, 0, 0, 0, 0, 0, 2, 0, 0, 0, 0, 0, 0, 0, 0, 0, 0, 0, 0,\n",
       "       0, 0, 0, 0, 0, 0, 0, 0, 0, 0, 0, 0, 0, 0, 0, 0, 0, 0], dtype=int64)"
      ]
     },
     "execution_count": 56,
     "metadata": {},
     "output_type": "execute_result"
    }
   ],
   "source": [
    "# Show cluster membership\n",
    "model.labels_"
   ]
  },
  {
   "cell_type": "code",
   "execution_count": null,
   "id": "c90ed27d-16c1-4b48-b895-db1af3de7d4b",
   "metadata": {},
   "outputs": [],
   "source": []
  }
 ],
 "metadata": {
  "kernelspec": {
   "display_name": "Python 3",
   "language": "python",
   "name": "python3"
  },
  "language_info": {
   "codemirror_mode": {
    "name": "ipython",
    "version": 3
   },
   "file_extension": ".py",
   "mimetype": "text/x-python",
   "name": "python",
   "nbconvert_exporter": "python",
   "pygments_lexer": "ipython3",
   "version": "3.8.8"
  }
 },
 "nbformat": 4,
 "nbformat_minor": 5
}
